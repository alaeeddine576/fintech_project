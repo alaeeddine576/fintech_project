{
 "cells": [
  {
   "cell_type": "markdown",
   "metadata": {},
   "source": [
    "# Étape 1 : Collecter les données financières\n",
    "Collecte et analyse des données financières provenant des transactions\n",
    "effectuées  dans le système traditionnel "
   ]
  },
  {
   "cell_type": "markdown",
   "metadata": {},
   "source": [
    "### Transactions traditionnelles : Importez les données financières du système traditionnel (e.g., fichiers CSV, base de données MySQL)."
   ]
  },
  {
   "cell_type": "code",
   "execution_count": 1,
   "metadata": {},
   "outputs": [],
   "source": [
    "import pandas as pd\n",
    "import numpy as np\n",
    "import matplotlib.pylab as plt\n",
    "import seaborn as sns\n",
    "import plotly.offline as pyo\n",
    "import plotly.express as px\n",
    "import plotly.graph_objs as go\n",
    "\n",
    "import pandas as pd\n",
    "import sqlalchemy as sql\n",
    "import csv\n",
    "import datetime"
   ]
  },
  {
   "cell_type": "code",
   "execution_count": 2,
   "metadata": {},
   "outputs": [],
   "source": [
    "engine = sql.create_engine('mysql+pymysql://root:@localhost:3306/fin_tech')\n",
    "\n",
    "engine = sql.create_engine('mysql+pymysql://root:@localhost:3306/application')\n",
    "df = pd.read_sql_table('transactions', con=engine, columns=[\n",
    "    'transaction_id',    \n",
    "    'from_address',     \n",
    "    'to_address',       \n",
    "    'value_eth',         \n",
    "    'gas_used',         \n",
    "    'gas_price_gwei',    \n",
    "    'transaction_date'   \n",
    "])\n",
    "\n",
    "df.head()"
   ]
  },
  {
   "cell_type": "markdown",
   "metadata": {},
   "source": [
    "### Step 2: Data Understanding\n",
    "- Dataframe `shape`\n",
    "- `head` and `tail`\n",
    "- `dtypes`\n",
    "- `describe`"
   ]
  },
  {
   "cell_type": "markdown",
   "metadata": {},
   "source": [
    "### Step 3: Data Preperation\n",
    "- 1. drop columns and rows\n",
    "- 2. Conversion des types de données\n",
    "- 3. Renaming Columns\n",
    "- 4. Handling missing data and duplicates\n",
    "- 5. Handling Outliers\n",
    "- 6. Econding Categorical Columns"
   ]
  },
  {
   "cell_type": "markdown",
   "metadata": {},
   "source": [
    "# Analyse des donnees\n",
    "• Utilisation de pandas et numpy pour analyser les volumes de\n",
    "transactions, les comportements de dépenses et les mouvements de\n",
    "cryptomonnaies.\n",
    "\n",
    "\n",
    "Data Analysis : Python (pandas, numpy) pour l'analyse des données\n",
    "financières et des transactions blockchain.\n",
    "• Visualisation : Matplotlib, Seaborn, Plotly, Grafana pour les tableaux de bord\n",
    "financiers et blockchain.\n",
    "\n",
    "Tableaux de bord interactifs :\n",
    "-pour la visualisation en temps réel des\n",
    "transactions financières (traditionnelles et blockchain).\n",
    "-pour visualiser les tendances financières, les flux de trésorerie et les volumes de transactions\n",
    "blockchain. \n",
    "-pour visualiser en temps réel les transactions blockchain (montants, tokens échangés) ainsi que\n",
    "les transactions traditionnelles."
   ]
  },
  {
   "cell_type": "markdown",
   "metadata": {},
   "source": [
    "## I- Analyse des volumes de transactions, les comportements de dépenses et les mouvements de cryptomonnaies."
   ]
  }
 ],
 "metadata": {
  "kernelspec": {
   "display_name": "Python 3",
   "language": "python",
   "name": "python3"
  },
  "language_info": {
   "codemirror_mode": {
    "name": "ipython",
    "version": 3
   },
   "file_extension": ".py",
   "mimetype": "text/x-python",
   "name": "python",
   "nbconvert_exporter": "python",
   "pygments_lexer": "ipython3",
   "version": "3.11.9"
  }
 },
 "nbformat": 4,
 "nbformat_minor": 2
}
