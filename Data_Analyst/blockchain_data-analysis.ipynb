{
 "cells": [
  {
   "cell_type": "markdown",
   "metadata": {},
   "source": [
    "# Étape 1 : Collecter les données financières\n",
    "Collecte et analyse des données financières provenant des transactions\n",
    "effectuées à l'aide de la blockchain."
   ]
  },
  {
   "cell_type": "markdown",
   "metadata": {},
   "source": [
    "### Transactions blockchain : Utilisation d'une API telle que celle de Infura (ou une autre API blockchain) pour collecter les données blockchain en temps réel (montants, tokens échangés, etc.).\n",
    "\n",
    "### Outils : Python, API Infura pour les transactions blockchain."
   ]
  },
  {
   "cell_type": "markdown",
   "metadata": {},
   "source": [
    "### 1- importation"
   ]
  },
  {
   "cell_type": "code",
   "execution_count": 40,
   "metadata": {},
   "outputs": [],
   "source": [
    "import pandas as pd\n",
    "import numpy as np\n",
    "import matplotlib.pylab as plt\n",
    "import seaborn as sns\n",
    "import plotly.offline as pyo\n",
    "import plotly.express as px\n",
    "import plotly.graph_objs as go\n",
    "\n",
    "from web3 import Web3\n",
    "import csv\n",
    "import datetime"
   ]
  },
  {
   "cell_type": "code",
   "execution_count": 2,
   "metadata": {},
   "outputs": [
    {
     "name": "stdout",
     "output_type": "stream",
     "text": [
      "Connected to Ethereum Mainnet\n",
      "Latest Block: 21546991\n",
      "Processing Block: 21546991\n",
      "Processing Block: 21546990\n",
      "Processing Block: 21546989\n",
      "Processing Block: 21546988\n",
      "Processing Block: 21546987\n",
      "Processing Block: 21546986\n",
      "Processing Block: 21546985\n",
      "Processing Block: 21546984\n",
      "Processing Block: 21546983\n",
      "Processing Block: 21546982\n",
      "Processing Block: 21546981\n",
      "Processing Block: 21546980\n",
      "Processing Block: 21546979\n",
      "Processing Block: 21546978\n",
      "Processing Block: 21546977\n",
      "Processing Block: 21546976\n",
      "Processing Block: 21546975\n",
      "Processing Block: 21546974\n",
      "Processing Block: 21546973\n",
      "Processing Block: 21546972\n",
      "Processing Block: 21546971\n",
      "Processing Block: 21546970\n",
      "Processing Block: 21546969\n",
      "Processing Block: 21546968\n",
      "Processing Block: 21546967\n",
      "Processing Block: 21546966\n",
      "Processing Block: 21546965\n",
      "Processing Block: 21546964\n",
      "Processing Block: 21546963\n",
      "Processing Block: 21546962\n",
      "Processing Block: 21546961\n",
      "Processing Block: 21546960\n",
      "Processing Block: 21546959\n",
      "Processing Block: 21546958\n",
      "Processing Block: 21546957\n",
      "Processing Block: 21546956\n",
      "Processing Block: 21546955\n",
      "Processing Block: 21546954\n",
      "Processing Block: 21546953\n",
      "Processing Block: 21546952\n",
      "Processing Block: 21546951\n",
      "Processing Block: 21546950\n",
      "Processing Block: 21546949\n",
      "Processing Block: 21546948\n",
      "Processing Block: 21546947\n",
      "Processing Block: 21546946\n",
      "Processing Block: 21546945\n",
      "Processing Block: 21546944\n",
      "Processing Block: 21546943\n",
      "Processing Block: 21546942\n",
      "Processing Block: 21546941\n",
      "Processing Block: 21546940\n",
      "Processing Block: 21546939\n",
      "Processing Block: 21546938\n",
      "Processing Block: 21546937\n",
      "Processing Block: 21546936\n",
      "Processing Block: 21546935\n",
      "Processing Block: 21546934\n",
      "Processing Block: 21546933\n",
      "Processing Block: 21546932\n",
      "Processing Block: 21546931\n",
      "Processing Block: 21546930\n",
      "Processing Block: 21546929\n",
      "Processing Block: 21546928\n",
      "Processing Block: 21546927\n",
      "Processing Block: 21546926\n",
      "Processing Block: 21546925\n",
      "Processing Block: 21546924\n",
      "Processing Block: 21546923\n",
      "Processing Block: 21546922\n",
      "Processing Block: 21546921\n",
      "Processing Block: 21546920\n",
      "Processing Block: 21546919\n",
      "Processing Block: 21546918\n",
      "Processing Block: 21546917\n",
      "Processing Block: 21546916\n",
      "Processing Block: 21546915\n",
      "Processing Block: 21546914\n",
      "Processing Block: 21546913\n",
      "Processing Block: 21546912\n",
      "Processing Block: 21546911\n",
      "Processing Block: 21546910\n",
      "Processing Block: 21546909\n",
      "Processing Block: 21546908\n",
      "Processing Block: 21546907\n",
      "Processing Block: 21546906\n",
      "Processing Block: 21546905\n",
      "Processing Block: 21546904\n",
      "Processing Block: 21546903\n",
      "Processing Block: 21546902\n",
      "Processing Block: 21546901\n",
      "Processing Block: 21546900\n",
      "Processing Block: 21546899\n",
      "Processing Block: 21546898\n",
      "Processing Block: 21546897\n",
      "Processing Block: 21546896\n",
      "Processing Block: 21546895\n",
      "Processing Block: 21546894\n",
      "Processing Block: 21546893\n",
      "Processing Block: 21546892\n",
      "Processing Block: 21546891\n",
      "Processing Block: 21546890\n",
      "Processing Block: 21546889\n",
      "Processing Block: 21546888\n",
      "Processing Block: 21546887\n",
      "Processing Block: 21546886\n",
      "Processing Block: 21546885\n",
      "Processing Block: 21546884\n",
      "Processing Block: 21546883\n",
      "Processing Block: 21546882\n",
      "Processing Block: 21546881\n",
      "Processing Block: 21546880\n",
      "Processing Block: 21546879\n",
      "Processing Block: 21546878\n",
      "Processing Block: 21546877\n",
      "Processing Block: 21546876\n",
      "Processing Block: 21546875\n",
      "Processing Block: 21546874\n",
      "Processing Block: 21546873\n",
      "Processing Block: 21546872\n",
      "Processing Block: 21546871\n",
      "Processing Block: 21546870\n",
      "Processing Block: 21546869\n",
      "Processing Block: 21546868\n",
      "Processing Block: 21546867\n",
      "Processing Block: 21546866\n",
      "Processing Block: 21546865\n",
      "Processing Block: 21546864\n",
      "Processing Block: 21546863\n",
      "Processing Block: 21546862\n",
      "Error fetching block 21546862: ('Connection aborted.', RemoteDisconnected('Remote end closed connection without response'))\n",
      "Processing Block: 21546861\n",
      "Processing Block: 21546860\n",
      "Processing Block: 21546859\n",
      "Processing Block: 21546858\n",
      "Processing Block: 21546857\n",
      "Processing Block: 21546856\n",
      "Processing Block: 21546855\n",
      "Processing Block: 21546854\n",
      "Processing Block: 21546853\n",
      "Processing Block: 21546852\n",
      "Processing Block: 21546851\n",
      "Processing Block: 21546850\n",
      "Processing Block: 21546849\n",
      "Error fetching block 21546849: 429 Client Error: Too Many Requests for url: https://mainnet.infura.io/v3/00eda8a58f914657a92f986d6d10a529\n",
      "Processing Block: 21546848\n",
      "Processing Block: 21546847\n",
      "Processing Block: 21546846\n",
      "Processing Block: 21546845\n",
      "Processing Block: 21546844\n",
      "Processing Block: 21546843\n",
      "Processing Block: 21546842\n",
      "Processing Block: 21546841\n",
      "Processing Block: 21546840\n",
      "Processing Block: 21546839\n",
      "Processing Block: 21546838\n",
      "Processing Block: 21546837\n",
      "Processing Block: 21546836\n",
      "Processing Block: 21546835\n",
      "Processing Block: 21546834\n",
      "Processing Block: 21546833\n",
      "Processing Block: 21546832\n",
      "Processing Block: 21546831\n",
      "Processing Block: 21546830\n",
      "Processing Block: 21546829\n",
      "Processing Block: 21546828\n",
      "Processing Block: 21546827\n",
      "Processing Block: 21546826\n",
      "Processing Block: 21546825\n",
      "Processing Block: 21546824\n",
      "Processing Block: 21546823\n",
      "Processing Block: 21546822\n",
      "Processing Block: 21546821\n",
      "Processing Block: 21546820\n",
      "Processing Block: 21546819\n",
      "Processing Block: 21546818\n",
      "Processing Block: 21546817\n",
      "Processing Block: 21546816\n",
      "Processing Block: 21546815\n",
      "Processing Block: 21546814\n",
      "Processing Block: 21546813\n",
      "Processing Block: 21546812\n",
      "Processing Block: 21546811\n",
      "Processing Block: 21546810\n",
      "Processing Block: 21546809\n",
      "Processing Block: 21546808\n",
      "Processing Block: 21546807\n",
      "Processing Block: 21546806\n",
      "Processing Block: 21546805\n",
      "Processing Block: 21546804\n",
      "Processing Block: 21546803\n",
      "Processing Block: 21546802\n",
      "Processing Block: 21546801\n",
      "Processing Block: 21546800\n",
      "Processing Block: 21546799\n",
      "Processing Block: 21546798\n",
      "Processing Block: 21546797\n",
      "Processing Block: 21546796\n",
      "Processing Block: 21546795\n",
      "Processing Block: 21546794\n",
      "Processing Block: 21546793\n",
      "Processing Block: 21546792\n",
      "Transactions from the last 50 blocks saved to 'last_200_blocks_transactions_analysis.csv'\n"
     ]
    }
   ],
   "source": [
    "\n",
    "# Infura Ethereum Mainnet URL (replace YOUR_INFURA_PROJECT_ID with your Infura Project ID)\n",
    "infura_url = 'https://mainnet.infura.io/v3/00eda8a58f914657a92f986d6d10a529'\n",
    "w3 = Web3(Web3.HTTPProvider(infura_url))\n",
    "\n",
    "# Check if connected to Ethereum\n",
    "if w3.is_connected():\n",
    "    print(\"Connected to Ethereum Mainnet\")\n",
    "else:\n",
    "    print(\"Failed to connect to Ethereum Mainnet\")\n",
    "    exit()\n",
    "\n",
    "# Get the latest block\n",
    "latest_block = w3.eth.block_number\n",
    "print(f\"Latest Block: {latest_block}\")\n",
    "\n",
    "# Open a CSV file to save transaction data\n",
    "with open('last_200_blocks_transactions_analysis.csv', 'w', newline='') as file:\n",
    "    writer = csv.writer(file)\n",
    "    writer.writerow(['Block Number', 'Transaction Hash', 'From Address', 'To Address', 'Value (ETH)', \n",
    "                     'Gas Used', 'Gas Price (Gwei)', 'Nonce', 'Timestamp', 'Transaction Date', 'Status'])\n",
    "\n",
    "    # Loop through the last 50 blocks\n",
    "    for block_number in range(latest_block, latest_block - 200, -1):  \n",
    "        print(f\"Processing Block: {block_number}\")\n",
    "        \n",
    "        # Fetch the transactions for the block\n",
    "        try:\n",
    "            block_data = w3.eth.get_block(block_number, full_transactions=True)\n",
    "        except Exception as e:\n",
    "            print(f\"Error fetching block {block_number}: {e}\")\n",
    "            continue\n",
    "        \n",
    "        # Get the block timestamp and convert it to a human-readable date/time\n",
    "        block_timestamp = block_data['timestamp']\n",
    "        block_time = datetime.datetime.fromtimestamp(block_timestamp).strftime('%Y-%m-%d %H:%M:%S')\n",
    "\n",
    "        # Loop through the block's transactions and save them to the CSV file\n",
    "        for tx in block_data['transactions']:\n",
    "            tx_hash = tx['hash'].hex()\n",
    "            tx_from = tx['from']\n",
    "            tx_to = tx['to']\n",
    "            tx_value = w3.from_wei(tx['value'], 'ether')  # Convert from Wei to Ether\n",
    "            gas_used = tx['gas']\n",
    "            gas_price = w3.from_wei(tx['gasPrice'], 'gwei')  # Convert to Gwei\n",
    "            nonce = tx['nonce']\n",
    "            \n",
    "            # Check if the transaction is successful (for contract calls)\n",
    "            status = None\n",
    "            if tx['to']:  # Check if the transaction interacts with a contract (not a simple ETH transfer)\n",
    "                try:\n",
    "                    # Fetch receipt to get the status for contract transactions\n",
    "                    tx_receipt = w3.eth.get_transaction_receipt(tx_hash)\n",
    "                    status = tx_receipt['status']\n",
    "                except Exception as e:\n",
    "                    status = \"Error Fetching Status\"  # In case the receipt fetch fails\n",
    "\n",
    "            # If it's a simple ETH transfer (not interacting with a contract), status remains None\n",
    "            if status is None:\n",
    "                status = \"N/A\"  # No status for regular ETH transfers\n",
    "\n",
    "            # Save the transaction data to the CSV file\n",
    "            writer.writerow([block_number, tx_hash, tx_from, tx_to, tx_value, gas_used, gas_price, nonce, block_timestamp, block_time, status])\n",
    "\n",
    "print(f\"Transactions from the last 50 blocks saved to 'last_200_blocks_transactions_analysis.csv'\")\n"
   ]
  },
  {
   "cell_type": "markdown",
   "metadata": {},
   "source": [
    "### Step 2: Data Understanding\n",
    "- Dataframe `shape`\n",
    "- `head` and `tail`\n",
    "- `dtypes`\n",
    "- `describe`"
   ]
  },
  {
   "cell_type": "code",
   "execution_count": 41,
   "metadata": {},
   "outputs": [
    {
     "data": {
      "text/html": [
       "<div>\n",
       "<style scoped>\n",
       "    .dataframe tbody tr th:only-of-type {\n",
       "        vertical-align: middle;\n",
       "    }\n",
       "\n",
       "    .dataframe tbody tr th {\n",
       "        vertical-align: top;\n",
       "    }\n",
       "\n",
       "    .dataframe thead th {\n",
       "        text-align: right;\n",
       "    }\n",
       "</style>\n",
       "<table border=\"1\" class=\"dataframe\">\n",
       "  <thead>\n",
       "    <tr style=\"text-align: right;\">\n",
       "      <th></th>\n",
       "      <th>Block Number</th>\n",
       "      <th>Transaction Hash</th>\n",
       "      <th>From Address</th>\n",
       "      <th>To Address</th>\n",
       "      <th>Value (ETH)</th>\n",
       "      <th>Gas Used</th>\n",
       "      <th>Gas Price (Gwei)</th>\n",
       "      <th>Nonce</th>\n",
       "      <th>Timestamp</th>\n",
       "      <th>Transaction Date</th>\n",
       "      <th>Status</th>\n",
       "    </tr>\n",
       "  </thead>\n",
       "  <tbody>\n",
       "    <tr>\n",
       "      <th>0</th>\n",
       "      <td>21546991</td>\n",
       "      <td>bb04ccb54145006ac6b8e1ff0be2314e79fed99ba361ad...</td>\n",
       "      <td>0x39a08a1dC43A9DFbe604141652e1523996A7399f</td>\n",
       "      <td>0xd90e2f925DA726b50C4Ed8D0Fb90Ad053324F31b</td>\n",
       "      <td>1.00000</td>\n",
       "      <td>1024465</td>\n",
       "      <td>30.604139</td>\n",
       "      <td>0</td>\n",
       "      <td>1735943915</td>\n",
       "      <td>2025-01-03 23:38:35</td>\n",
       "      <td>1</td>\n",
       "    </tr>\n",
       "    <tr>\n",
       "      <th>1</th>\n",
       "      <td>21546991</td>\n",
       "      <td>3e8b5b18e69c2001ac7c77660805fe0a7898d383c4f39c...</td>\n",
       "      <td>0xBDE5eb8642833aF00854137c46C65092D91D1e15</td>\n",
       "      <td>0xA0b86991c6218b36c1d19D4a2e9Eb0cE3606eB48</td>\n",
       "      <td>0.00000</td>\n",
       "      <td>100000</td>\n",
       "      <td>59.410169</td>\n",
       "      <td>7</td>\n",
       "      <td>1735943915</td>\n",
       "      <td>2025-01-03 23:38:35</td>\n",
       "      <td>1</td>\n",
       "    </tr>\n",
       "    <tr>\n",
       "      <th>2</th>\n",
       "      <td>21546991</td>\n",
       "      <td>b3ee8beccca582eea7ad8591f68af5e226801605098890...</td>\n",
       "      <td>0x320f433834349A5f3f3FF5979f9644920bC2575A</td>\n",
       "      <td>0x1231DEB6f5749EF6cE6943a275A1D3E7486F4EaE</td>\n",
       "      <td>0.00000</td>\n",
       "      <td>403937</td>\n",
       "      <td>29.000000</td>\n",
       "      <td>12</td>\n",
       "      <td>1735943915</td>\n",
       "      <td>2025-01-03 23:38:35</td>\n",
       "      <td>1</td>\n",
       "    </tr>\n",
       "    <tr>\n",
       "      <th>3</th>\n",
       "      <td>21546991</td>\n",
       "      <td>d35f232a11fe792bea5f7679fbd3d9975a90e095fac636...</td>\n",
       "      <td>0x72637414064DD0304e41eE932f9d924E788Eee2A</td>\n",
       "      <td>0x56284f6638Eb7722430bfDF0Efb3120D77b4B807</td>\n",
       "      <td>0.01382</td>\n",
       "      <td>21000</td>\n",
       "      <td>25.604139</td>\n",
       "      <td>14</td>\n",
       "      <td>1735943915</td>\n",
       "      <td>2025-01-03 23:38:35</td>\n",
       "      <td>1</td>\n",
       "    </tr>\n",
       "    <tr>\n",
       "      <th>4</th>\n",
       "      <td>21546991</td>\n",
       "      <td>b4059b6c1a34588c19825b3f060633c7f4895740733061...</td>\n",
       "      <td>0x20C5B10046808c331e7AabF202b0c20Ca526CC0b</td>\n",
       "      <td>0xAA6624D7363Ef8284aA8ce4e18146dEd5f421b2c</td>\n",
       "      <td>0.00000</td>\n",
       "      <td>52102</td>\n",
       "      <td>16.876371</td>\n",
       "      <td>8589</td>\n",
       "      <td>1735943915</td>\n",
       "      <td>2025-01-03 23:38:35</td>\n",
       "      <td>1</td>\n",
       "    </tr>\n",
       "  </tbody>\n",
       "</table>\n",
       "</div>"
      ],
      "text/plain": [
       "   Block Number                                   Transaction Hash  \\\n",
       "0      21546991  bb04ccb54145006ac6b8e1ff0be2314e79fed99ba361ad...   \n",
       "1      21546991  3e8b5b18e69c2001ac7c77660805fe0a7898d383c4f39c...   \n",
       "2      21546991  b3ee8beccca582eea7ad8591f68af5e226801605098890...   \n",
       "3      21546991  d35f232a11fe792bea5f7679fbd3d9975a90e095fac636...   \n",
       "4      21546991  b4059b6c1a34588c19825b3f060633c7f4895740733061...   \n",
       "\n",
       "                                 From Address  \\\n",
       "0  0x39a08a1dC43A9DFbe604141652e1523996A7399f   \n",
       "1  0xBDE5eb8642833aF00854137c46C65092D91D1e15   \n",
       "2  0x320f433834349A5f3f3FF5979f9644920bC2575A   \n",
       "3  0x72637414064DD0304e41eE932f9d924E788Eee2A   \n",
       "4  0x20C5B10046808c331e7AabF202b0c20Ca526CC0b   \n",
       "\n",
       "                                   To Address  Value (ETH)  Gas Used  \\\n",
       "0  0xd90e2f925DA726b50C4Ed8D0Fb90Ad053324F31b      1.00000   1024465   \n",
       "1  0xA0b86991c6218b36c1d19D4a2e9Eb0cE3606eB48      0.00000    100000   \n",
       "2  0x1231DEB6f5749EF6cE6943a275A1D3E7486F4EaE      0.00000    403937   \n",
       "3  0x56284f6638Eb7722430bfDF0Efb3120D77b4B807      0.01382     21000   \n",
       "4  0xAA6624D7363Ef8284aA8ce4e18146dEd5f421b2c      0.00000     52102   \n",
       "\n",
       "   Gas Price (Gwei)  Nonce   Timestamp     Transaction Date Status  \n",
       "0         30.604139      0  1735943915  2025-01-03 23:38:35      1  \n",
       "1         59.410169      7  1735943915  2025-01-03 23:38:35      1  \n",
       "2         29.000000     12  1735943915  2025-01-03 23:38:35      1  \n",
       "3         25.604139     14  1735943915  2025-01-03 23:38:35      1  \n",
       "4         16.876371   8589  1735943915  2025-01-03 23:38:35      1  "
      ]
     },
     "execution_count": 41,
     "metadata": {},
     "output_type": "execute_result"
    }
   ],
   "source": [
    "df= pd.read_csv('last_200_blocks_transactions_analysis.csv')\n",
    "df.head()"
   ]
  },
  {
   "cell_type": "code",
   "execution_count": 42,
   "metadata": {},
   "outputs": [
    {
     "data": {
      "text/plain": [
       "(34747, 11)"
      ]
     },
     "execution_count": 42,
     "metadata": {},
     "output_type": "execute_result"
    }
   ],
   "source": [
    "df.shape"
   ]
  },
  {
   "cell_type": "code",
   "execution_count": 43,
   "metadata": {},
   "outputs": [
    {
     "data": {
      "text/plain": [
       "Index(['Block Number', 'Transaction Hash', 'From Address', 'To Address',\n",
       "       'Value (ETH)', 'Gas Used', 'Gas Price (Gwei)', 'Nonce', 'Timestamp',\n",
       "       'Transaction Date', 'Status'],\n",
       "      dtype='object')"
      ]
     },
     "execution_count": 43,
     "metadata": {},
     "output_type": "execute_result"
    }
   ],
   "source": [
    "df.columns"
   ]
  },
  {
   "cell_type": "markdown",
   "metadata": {},
   "source": [
    "\n",
    "1. **Block Number** : \n",
    "   - Le numéro du bloc Ethereum dans lequel la transaction a été incluse. Chaque transaction sur Ethereum est validée dans un bloc, et chaque bloc a un numéro unique qui représente sa position dans la blockchain.\n",
    "\n",
    "2. **Transaction Hash** :\n",
    "   - Un identifiant unique pour chaque transaction sur la blockchain. Il s'agit d'une chaîne de caractères hexadécimale qui représente le résultat du hachage de la transaction, utilisée pour retrouver et identifier chaque transaction sur le réseau Ethereum.\n",
    "\n",
    "3. **From Address** :\n",
    "   - L'adresse Ethereum de l'expéditeur (celui qui initie la transaction). C'est l'adresse du compte ou du contrat intelligent qui a envoyé des fonds ou exécuté une action.\n",
    "\n",
    "4. **To Address** :\n",
    "   - L'adresse Ethereum du destinataire de la transaction. Il peut s'agir d'une adresse de compte ou d'un contrat intelligent qui reçoit les fonds ou sur lequel une fonction est exécutée.\n",
    "\n",
    "5. **Value (ETH)** :\n",
    "   - La quantité d'Ether (ETH) transférée lors de la transaction. Elle est généralement exprimée en Ether, la cryptomonnaie native du réseau Ethereum, et convertie à partir de la plus petite unité appelée \"wei\".\n",
    "\n",
    "6. **Gas Used** :\n",
    "   - La quantité de \"gas\" consommée pour exécuter cette transaction. Le gas est une unité utilisée pour mesurer la quantité de travail informatique nécessaire pour traiter la transaction ou l'exécution d'un contrat intelligent.\n",
    "\n",
    "7. **Gas Price (Gwei)** :\n",
    "   - Le prix par unité de gas payé par l'expéditeur pour la transaction, exprimé en Gwei (1 Gwei = 0,000000001 ETH). Les utilisateurs définissent ce prix pour inciter les mineurs à inclure leurs transactions plus rapidement dans un bloc.\n",
    "\n",
    "8. **Nonce** :\n",
    "   - Un compteur utilisé par Ethereum pour suivre le nombre de transactions envoyées depuis une adresse spécifique. Chaque transaction a un nonce unique par adresse, ce qui empêche le double-spending ou les répétitions.\n",
    "\n",
    "9. **Timestamp** :\n",
    "   - L'horodatage Unix du bloc dans lequel la transaction a été incluse, exprimé en secondes depuis le 1er janvier 1970 (l'epoch Unix). Il indique l'heure exacte à laquelle le bloc a été validé.\n",
    "\n",
    "10. **Transaction Date** :\n",
    "   - La version lisible de l'horodatage, convertie au format humain (`AAAA-MM-JJ HH:MM:SS`), pour indiquer clairement la date et l'heure auxquelles la transaction a été incluse dans le bloc.\n",
    "\n",
    "11. **Status** :\n",
    "   - L'état final de la transaction :\n",
    "     - `1` : La transaction a été exécutée avec succès.\n",
    "     - `0` : La transaction a échoué (cela peut se produire si la transaction manque de gas ou si une condition dans un contrat intelligent n'a pas été remplie).\n",
    "     - `\"N/A\"` : S'applique aux transactions simples sans interaction avec un contrat intelligent (comme les transferts d'ETH).\n",
    "\n",
    "### Importance des colonnes :\n",
    "- **\"From Address\" et \"To Address\"** vous permettent de savoir qui envoie et qui reçoit les fonds.\n",
    "- **\"Value (ETH)\"** vous indique la valeur des transactions en Ether.\n",
    "- **\"Gas Used\" et \"Gas Price (Gwei)\"** sont essentiels pour comprendre les frais associés à chaque transaction.\n",
    "- **\"Transaction Date\"** vous permet d'analyser la chronologie des transactions.\n",
    "- **\"Status\"** vous aide à filtrer les transactions réussies des échecs.\n",
    "\n",
    "Cela vous permet de collecter, analyser et visualiser les tendances, volumes et comportements des transactions sur la blockchain Ethereum."
   ]
  },
  {
   "cell_type": "code",
   "execution_count": 44,
   "metadata": {},
   "outputs": [
    {
     "data": {
      "text/plain": [
       "Block Number          int64\n",
       "Transaction Hash     object\n",
       "From Address         object\n",
       "To Address           object\n",
       "Value (ETH)         float64\n",
       "Gas Used              int64\n",
       "Gas Price (Gwei)    float64\n",
       "Nonce                 int64\n",
       "Timestamp             int64\n",
       "Transaction Date     object\n",
       "Status               object\n",
       "dtype: object"
      ]
     },
     "execution_count": 44,
     "metadata": {},
     "output_type": "execute_result"
    }
   ],
   "source": [
    "df.dtypes"
   ]
  },
  {
   "cell_type": "code",
   "execution_count": 45,
   "metadata": {},
   "outputs": [
    {
     "data": {
      "text/html": [
       "<div>\n",
       "<style scoped>\n",
       "    .dataframe tbody tr th:only-of-type {\n",
       "        vertical-align: middle;\n",
       "    }\n",
       "\n",
       "    .dataframe tbody tr th {\n",
       "        vertical-align: top;\n",
       "    }\n",
       "\n",
       "    .dataframe thead th {\n",
       "        text-align: right;\n",
       "    }\n",
       "</style>\n",
       "<table border=\"1\" class=\"dataframe\">\n",
       "  <thead>\n",
       "    <tr style=\"text-align: right;\">\n",
       "      <th></th>\n",
       "      <th>Block Number</th>\n",
       "      <th>Value (ETH)</th>\n",
       "      <th>Gas Used</th>\n",
       "      <th>Gas Price (Gwei)</th>\n",
       "      <th>Nonce</th>\n",
       "      <th>Timestamp</th>\n",
       "    </tr>\n",
       "  </thead>\n",
       "  <tbody>\n",
       "    <tr>\n",
       "      <th>count</th>\n",
       "      <td>3.474700e+04</td>\n",
       "      <td>34747.000000</td>\n",
       "      <td>3.474700e+04</td>\n",
       "      <td>34747.000000</td>\n",
       "      <td>3.474700e+04</td>\n",
       "      <td>3.474700e+04</td>\n",
       "    </tr>\n",
       "    <tr>\n",
       "      <th>mean</th>\n",
       "      <td>2.154689e+07</td>\n",
       "      <td>1.529494</td>\n",
       "      <td>2.057617e+05</td>\n",
       "      <td>12.993061</td>\n",
       "      <td>8.001751e+05</td>\n",
       "      <td>1.735943e+09</td>\n",
       "    </tr>\n",
       "    <tr>\n",
       "      <th>std</th>\n",
       "      <td>5.806552e+01</td>\n",
       "      <td>62.438252</td>\n",
       "      <td>6.613920e+05</td>\n",
       "      <td>47.652490</td>\n",
       "      <td>2.475715e+06</td>\n",
       "      <td>7.008290e+02</td>\n",
       "    </tr>\n",
       "    <tr>\n",
       "      <th>min</th>\n",
       "      <td>2.154679e+07</td>\n",
       "      <td>0.000000</td>\n",
       "      <td>2.100000e+04</td>\n",
       "      <td>8.143926</td>\n",
       "      <td>0.000000e+00</td>\n",
       "      <td>1.735942e+09</td>\n",
       "    </tr>\n",
       "    <tr>\n",
       "      <th>25%</th>\n",
       "      <td>2.154684e+07</td>\n",
       "      <td>0.000000</td>\n",
       "      <td>2.100000e+04</td>\n",
       "      <td>10.396780</td>\n",
       "      <td>8.000000e+00</td>\n",
       "      <td>1.735942e+09</td>\n",
       "    </tr>\n",
       "    <tr>\n",
       "      <th>50%</th>\n",
       "      <td>2.154689e+07</td>\n",
       "      <td>0.000324</td>\n",
       "      <td>7.574600e+04</td>\n",
       "      <td>11.347908</td>\n",
       "      <td>1.540000e+02</td>\n",
       "      <td>1.735943e+09</td>\n",
       "    </tr>\n",
       "    <tr>\n",
       "      <th>75%</th>\n",
       "      <td>2.154694e+07</td>\n",
       "      <td>0.036098</td>\n",
       "      <td>2.299300e+05</td>\n",
       "      <td>12.432700</td>\n",
       "      <td>8.339450e+04</td>\n",
       "      <td>1.735943e+09</td>\n",
       "    </tr>\n",
       "    <tr>\n",
       "      <th>max</th>\n",
       "      <td>2.154699e+07</td>\n",
       "      <td>9878.301600</td>\n",
       "      <td>1.653651e+07</td>\n",
       "      <td>5393.832126</td>\n",
       "      <td>1.326843e+07</td>\n",
       "      <td>1.735944e+09</td>\n",
       "    </tr>\n",
       "  </tbody>\n",
       "</table>\n",
       "</div>"
      ],
      "text/plain": [
       "       Block Number   Value (ETH)      Gas Used  Gas Price (Gwei)  \\\n",
       "count  3.474700e+04  34747.000000  3.474700e+04      34747.000000   \n",
       "mean   2.154689e+07      1.529494  2.057617e+05         12.993061   \n",
       "std    5.806552e+01     62.438252  6.613920e+05         47.652490   \n",
       "min    2.154679e+07      0.000000  2.100000e+04          8.143926   \n",
       "25%    2.154684e+07      0.000000  2.100000e+04         10.396780   \n",
       "50%    2.154689e+07      0.000324  7.574600e+04         11.347908   \n",
       "75%    2.154694e+07      0.036098  2.299300e+05         12.432700   \n",
       "max    2.154699e+07   9878.301600  1.653651e+07       5393.832126   \n",
       "\n",
       "              Nonce     Timestamp  \n",
       "count  3.474700e+04  3.474700e+04  \n",
       "mean   8.001751e+05  1.735943e+09  \n",
       "std    2.475715e+06  7.008290e+02  \n",
       "min    0.000000e+00  1.735942e+09  \n",
       "25%    8.000000e+00  1.735942e+09  \n",
       "50%    1.540000e+02  1.735943e+09  \n",
       "75%    8.339450e+04  1.735943e+09  \n",
       "max    1.326843e+07  1.735944e+09  "
      ]
     },
     "execution_count": 45,
     "metadata": {},
     "output_type": "execute_result"
    }
   ],
   "source": [
    "df.describe()"
   ]
  },
  {
   "cell_type": "markdown",
   "metadata": {},
   "source": [
    "### Step 3: Data Preperation\n",
    "- 1. drop columns and rows\n",
    "- 2. Conversion des types de données\n",
    "- 3. Renaming Columns\n",
    "- 4. Handling missing data and duplicates\n",
    "- 5. Handling Outliers\n",
    "- 6. Econding Categorical Columns"
   ]
  },
  {
   "cell_type": "code",
   "execution_count": 46,
   "metadata": {},
   "outputs": [],
   "source": [
    "#- 1. drop columns and rows\n",
    "df = df.drop(columns=['Timestamp'])"
   ]
  },
  {
   "cell_type": "code",
   "execution_count": 47,
   "metadata": {},
   "outputs": [
    {
     "data": {
      "text/html": [
       "<div>\n",
       "<style scoped>\n",
       "    .dataframe tbody tr th:only-of-type {\n",
       "        vertical-align: middle;\n",
       "    }\n",
       "\n",
       "    .dataframe tbody tr th {\n",
       "        vertical-align: top;\n",
       "    }\n",
       "\n",
       "    .dataframe thead th {\n",
       "        text-align: right;\n",
       "    }\n",
       "</style>\n",
       "<table border=\"1\" class=\"dataframe\">\n",
       "  <thead>\n",
       "    <tr style=\"text-align: right;\">\n",
       "      <th></th>\n",
       "      <th>Block Number</th>\n",
       "      <th>Transaction Hash</th>\n",
       "      <th>From Address</th>\n",
       "      <th>To Address</th>\n",
       "      <th>Value (ETH)</th>\n",
       "      <th>Gas Used</th>\n",
       "      <th>Gas Price (Gwei)</th>\n",
       "      <th>Nonce</th>\n",
       "      <th>Transaction Date</th>\n",
       "      <th>Status</th>\n",
       "    </tr>\n",
       "  </thead>\n",
       "  <tbody>\n",
       "    <tr>\n",
       "      <th>0</th>\n",
       "      <td>21546991</td>\n",
       "      <td>bb04ccb54145006ac6b8e1ff0be2314e79fed99ba361ad...</td>\n",
       "      <td>0x39a08a1dC43A9DFbe604141652e1523996A7399f</td>\n",
       "      <td>0xd90e2f925DA726b50C4Ed8D0Fb90Ad053324F31b</td>\n",
       "      <td>1.00000</td>\n",
       "      <td>1024465</td>\n",
       "      <td>30.604139</td>\n",
       "      <td>0</td>\n",
       "      <td>2025-01-03 23:38:35</td>\n",
       "      <td>1</td>\n",
       "    </tr>\n",
       "    <tr>\n",
       "      <th>1</th>\n",
       "      <td>21546991</td>\n",
       "      <td>3e8b5b18e69c2001ac7c77660805fe0a7898d383c4f39c...</td>\n",
       "      <td>0xBDE5eb8642833aF00854137c46C65092D91D1e15</td>\n",
       "      <td>0xA0b86991c6218b36c1d19D4a2e9Eb0cE3606eB48</td>\n",
       "      <td>0.00000</td>\n",
       "      <td>100000</td>\n",
       "      <td>59.410169</td>\n",
       "      <td>7</td>\n",
       "      <td>2025-01-03 23:38:35</td>\n",
       "      <td>1</td>\n",
       "    </tr>\n",
       "    <tr>\n",
       "      <th>2</th>\n",
       "      <td>21546991</td>\n",
       "      <td>b3ee8beccca582eea7ad8591f68af5e226801605098890...</td>\n",
       "      <td>0x320f433834349A5f3f3FF5979f9644920bC2575A</td>\n",
       "      <td>0x1231DEB6f5749EF6cE6943a275A1D3E7486F4EaE</td>\n",
       "      <td>0.00000</td>\n",
       "      <td>403937</td>\n",
       "      <td>29.000000</td>\n",
       "      <td>12</td>\n",
       "      <td>2025-01-03 23:38:35</td>\n",
       "      <td>1</td>\n",
       "    </tr>\n",
       "    <tr>\n",
       "      <th>3</th>\n",
       "      <td>21546991</td>\n",
       "      <td>d35f232a11fe792bea5f7679fbd3d9975a90e095fac636...</td>\n",
       "      <td>0x72637414064DD0304e41eE932f9d924E788Eee2A</td>\n",
       "      <td>0x56284f6638Eb7722430bfDF0Efb3120D77b4B807</td>\n",
       "      <td>0.01382</td>\n",
       "      <td>21000</td>\n",
       "      <td>25.604139</td>\n",
       "      <td>14</td>\n",
       "      <td>2025-01-03 23:38:35</td>\n",
       "      <td>1</td>\n",
       "    </tr>\n",
       "    <tr>\n",
       "      <th>4</th>\n",
       "      <td>21546991</td>\n",
       "      <td>b4059b6c1a34588c19825b3f060633c7f4895740733061...</td>\n",
       "      <td>0x20C5B10046808c331e7AabF202b0c20Ca526CC0b</td>\n",
       "      <td>0xAA6624D7363Ef8284aA8ce4e18146dEd5f421b2c</td>\n",
       "      <td>0.00000</td>\n",
       "      <td>52102</td>\n",
       "      <td>16.876371</td>\n",
       "      <td>8589</td>\n",
       "      <td>2025-01-03 23:38:35</td>\n",
       "      <td>1</td>\n",
       "    </tr>\n",
       "  </tbody>\n",
       "</table>\n",
       "</div>"
      ],
      "text/plain": [
       "   Block Number                                   Transaction Hash  \\\n",
       "0      21546991  bb04ccb54145006ac6b8e1ff0be2314e79fed99ba361ad...   \n",
       "1      21546991  3e8b5b18e69c2001ac7c77660805fe0a7898d383c4f39c...   \n",
       "2      21546991  b3ee8beccca582eea7ad8591f68af5e226801605098890...   \n",
       "3      21546991  d35f232a11fe792bea5f7679fbd3d9975a90e095fac636...   \n",
       "4      21546991  b4059b6c1a34588c19825b3f060633c7f4895740733061...   \n",
       "\n",
       "                                 From Address  \\\n",
       "0  0x39a08a1dC43A9DFbe604141652e1523996A7399f   \n",
       "1  0xBDE5eb8642833aF00854137c46C65092D91D1e15   \n",
       "2  0x320f433834349A5f3f3FF5979f9644920bC2575A   \n",
       "3  0x72637414064DD0304e41eE932f9d924E788Eee2A   \n",
       "4  0x20C5B10046808c331e7AabF202b0c20Ca526CC0b   \n",
       "\n",
       "                                   To Address  Value (ETH)  Gas Used  \\\n",
       "0  0xd90e2f925DA726b50C4Ed8D0Fb90Ad053324F31b      1.00000   1024465   \n",
       "1  0xA0b86991c6218b36c1d19D4a2e9Eb0cE3606eB48      0.00000    100000   \n",
       "2  0x1231DEB6f5749EF6cE6943a275A1D3E7486F4EaE      0.00000    403937   \n",
       "3  0x56284f6638Eb7722430bfDF0Efb3120D77b4B807      0.01382     21000   \n",
       "4  0xAA6624D7363Ef8284aA8ce4e18146dEd5f421b2c      0.00000     52102   \n",
       "\n",
       "   Gas Price (Gwei)  Nonce     Transaction Date Status  \n",
       "0         30.604139      0  2025-01-03 23:38:35      1  \n",
       "1         59.410169      7  2025-01-03 23:38:35      1  \n",
       "2         29.000000     12  2025-01-03 23:38:35      1  \n",
       "3         25.604139     14  2025-01-03 23:38:35      1  \n",
       "4         16.876371   8589  2025-01-03 23:38:35      1  "
      ]
     },
     "execution_count": 47,
     "metadata": {},
     "output_type": "execute_result"
    }
   ],
   "source": [
    "df.head()"
   ]
  },
  {
   "cell_type": "code",
   "execution_count": 48,
   "metadata": {},
   "outputs": [],
   "source": [
    "# - 2. Conversion des types de données\n",
    "\n",
    "df['Transaction Date'] = pd.to_datetime(df['Transaction Date'],errors='coerce')\n",
    "df['Value (ETH)'] = df['Value (ETH)'].astype(float)\n",
    "df['Gas Price (Gwei)'] = df['Gas Price (Gwei)'].astype(float)\n",
    "df['Gas Used'] = df['Gas Used'].astype(float)  "
   ]
  },
  {
   "cell_type": "code",
   "execution_count": 49,
   "metadata": {},
   "outputs": [
    {
     "data": {
      "text/plain": [
       "Block Number                 int64\n",
       "Transaction Hash            object\n",
       "From Address                object\n",
       "To Address                  object\n",
       "Value (ETH)                float64\n",
       "Gas Used                   float64\n",
       "Gas Price (Gwei)           float64\n",
       "Nonce                        int64\n",
       "Transaction Date    datetime64[ns]\n",
       "Status                      object\n",
       "dtype: object"
      ]
     },
     "execution_count": 49,
     "metadata": {},
     "output_type": "execute_result"
    }
   ],
   "source": [
    "df.dtypes"
   ]
  },
  {
   "cell_type": "code",
   "execution_count": 50,
   "metadata": {},
   "outputs": [],
   "source": [
    "# - 3. Renaming Columns\n",
    "\n",
    "df.rename(columns={\n",
    "    'Block Number': 'Block_Number',\n",
    "    'Transaction Hash': 'Transaction_Hash',\n",
    "    'From Address': 'From_Address',\n",
    "    'To Address': 'To_Address',\n",
    "    'Value (ETH)': 'Value_ETH',\n",
    "    'Gas Used': 'Gas_Used',\n",
    "    'Gas Price (Gwei)': 'Gas_Price_Gwei',\n",
    "    'Transaction Date': 'Trans_Date'\n",
    "}, inplace=True)\n"
   ]
  },
  {
   "cell_type": "code",
   "execution_count": 51,
   "metadata": {},
   "outputs": [
    {
     "data": {
      "text/plain": [
       "Index(['Block_Number', 'Transaction_Hash', 'From_Address', 'To_Address',\n",
       "       'Value_ETH', 'Gas_Used', 'Gas_Price_Gwei', 'Nonce', 'Trans_Date',\n",
       "       'Status'],\n",
       "      dtype='object')"
      ]
     },
     "execution_count": 51,
     "metadata": {},
     "output_type": "execute_result"
    }
   ],
   "source": [
    "df.columns"
   ]
  },
  {
   "cell_type": "code",
   "execution_count": 52,
   "metadata": {},
   "outputs": [
    {
     "data": {
      "text/plain": [
       "Block_Number         0\n",
       "Transaction_Hash     0\n",
       "From_Address         0\n",
       "To_Address          61\n",
       "Value_ETH            0\n",
       "Gas_Used             0\n",
       "Gas_Price_Gwei       0\n",
       "Nonce                0\n",
       "Trans_Date           0\n",
       "Status              61\n",
       "dtype: int64"
      ]
     },
     "execution_count": 52,
     "metadata": {},
     "output_type": "execute_result"
    }
   ],
   "source": [
    "# 4. Handling missing data and duplicates\n",
    "\n",
    "df.isnull().sum()"
   ]
  },
  {
   "cell_type": "code",
   "execution_count": 53,
   "metadata": {},
   "outputs": [
    {
     "data": {
      "text/plain": [
       "Block_Number        0\n",
       "Transaction_Hash    0\n",
       "From_Address        0\n",
       "To_Address          0\n",
       "Value_ETH           0\n",
       "Gas_Used            0\n",
       "Gas_Price_Gwei      0\n",
       "Nonce               0\n",
       "Trans_Date          0\n",
       "Status              0\n",
       "dtype: int64"
      ]
     },
     "execution_count": 53,
     "metadata": {},
     "output_type": "execute_result"
    }
   ],
   "source": [
    "df.dropna(subset=['To_Address', 'Status'], inplace=True)\n",
    "df.isna().sum()"
   ]
  },
  {
   "cell_type": "code",
   "execution_count": 54,
   "metadata": {},
   "outputs": [
    {
     "data": {
      "text/plain": [
       "np.int64(0)"
      ]
     },
     "execution_count": 54,
     "metadata": {},
     "output_type": "execute_result"
    }
   ],
   "source": [
    "df.duplicated().sum()"
   ]
  },
  {
   "cell_type": "code",
   "execution_count": 55,
   "metadata": {},
   "outputs": [
    {
     "data": {
      "text/html": [
       "<div>\n",
       "<style scoped>\n",
       "    .dataframe tbody tr th:only-of-type {\n",
       "        vertical-align: middle;\n",
       "    }\n",
       "\n",
       "    .dataframe tbody tr th {\n",
       "        vertical-align: top;\n",
       "    }\n",
       "\n",
       "    .dataframe thead th {\n",
       "        text-align: right;\n",
       "    }\n",
       "</style>\n",
       "<table border=\"1\" class=\"dataframe\">\n",
       "  <thead>\n",
       "    <tr style=\"text-align: right;\">\n",
       "      <th></th>\n",
       "      <th>Block_Number</th>\n",
       "      <th>Transaction_Hash</th>\n",
       "      <th>From_Address</th>\n",
       "      <th>To_Address</th>\n",
       "      <th>Value_ETH</th>\n",
       "      <th>Gas_Used</th>\n",
       "      <th>Gas_Price_Gwei</th>\n",
       "      <th>Nonce</th>\n",
       "      <th>Trans_Date</th>\n",
       "      <th>Status</th>\n",
       "    </tr>\n",
       "  </thead>\n",
       "  <tbody>\n",
       "  </tbody>\n",
       "</table>\n",
       "</div>"
      ],
      "text/plain": [
       "Empty DataFrame\n",
       "Columns: [Block_Number, Transaction_Hash, From_Address, To_Address, Value_ETH, Gas_Used, Gas_Price_Gwei, Nonce, Trans_Date, Status]\n",
       "Index: []"
      ]
     },
     "execution_count": 55,
     "metadata": {},
     "output_type": "execute_result"
    }
   ],
   "source": [
    "df.loc[df.duplicated()]"
   ]
  },
  {
   "cell_type": "code",
   "execution_count": 56,
   "metadata": {},
   "outputs": [],
   "source": [
    "# -5 .Handling Outliers\n",
    "\n",
    "def remove_outliers_iqr(df, column):\n",
    "    Q1 = df[column].quantile(0.25)\n",
    "    Q3 = df[column].quantile(0.75)\n",
    "    IQR = Q3 - Q1\n",
    "    lower_bound = Q1 - 1.5 * IQR\n",
    "    upper_bound = Q3 + 1.5 * IQR\n",
    "    return df[(df[column] >= lower_bound) & (df[column] <= upper_bound)]\n",
    "\n",
    "df = remove_outliers_iqr(df, 'Value_ETH')\n",
    "df = remove_outliers_iqr(df, 'Gas_Used')\n",
    "df = remove_outliers_iqr(df, 'Gas_Price_Gwei')"
   ]
  },
  {
   "cell_type": "code",
   "execution_count": 57,
   "metadata": {},
   "outputs": [
    {
     "data": {
      "text/plain": [
       "(25918, 10)"
      ]
     },
     "execution_count": 57,
     "metadata": {},
     "output_type": "execute_result"
    }
   ],
   "source": [
    "df.shape"
   ]
  },
  {
   "cell_type": "code",
   "execution_count": null,
   "metadata": {},
   "outputs": [],
   "source": [
    "# 6. Encodage des colonnes catégoriques\n",
    "# there is no columns categorical"
   ]
  },
  {
   "cell_type": "code",
   "execution_count": 58,
   "metadata": {},
   "outputs": [
    {
     "data": {
      "text/html": [
       "<div>\n",
       "<style scoped>\n",
       "    .dataframe tbody tr th:only-of-type {\n",
       "        vertical-align: middle;\n",
       "    }\n",
       "\n",
       "    .dataframe tbody tr th {\n",
       "        vertical-align: top;\n",
       "    }\n",
       "\n",
       "    .dataframe thead th {\n",
       "        text-align: right;\n",
       "    }\n",
       "</style>\n",
       "<table border=\"1\" class=\"dataframe\">\n",
       "  <thead>\n",
       "    <tr style=\"text-align: right;\">\n",
       "      <th></th>\n",
       "      <th>Block_Number</th>\n",
       "      <th>Transaction_Hash</th>\n",
       "      <th>From_Address</th>\n",
       "      <th>To_Address</th>\n",
       "      <th>Value_ETH</th>\n",
       "      <th>Gas_Used</th>\n",
       "      <th>Gas_Price_Gwei</th>\n",
       "      <th>Nonce</th>\n",
       "      <th>Trans_Date</th>\n",
       "      <th>Status</th>\n",
       "    </tr>\n",
       "  </thead>\n",
       "  <tbody>\n",
       "    <tr>\n",
       "      <th>0</th>\n",
       "      <td>21546991</td>\n",
       "      <td>b44eef65793f01e5e06ecdefb1767328673b9616afdd3e...</td>\n",
       "      <td>0xC16157e00b1bFf1522C6F01246B4Fb621dA048d0</td>\n",
       "      <td>0x9a15bB3a8FEc8d0d810691BAFE36f6e5d42360F7</td>\n",
       "      <td>0.027993</td>\n",
       "      <td>228664.0</td>\n",
       "      <td>14.468592</td>\n",
       "      <td>255633</td>\n",
       "      <td>2025-01-03 23:38:35</td>\n",
       "      <td>1</td>\n",
       "    </tr>\n",
       "    <tr>\n",
       "      <th>1</th>\n",
       "      <td>21546991</td>\n",
       "      <td>852cbee2827d81bcfcf529b979c7579ad868c95489f8aa...</td>\n",
       "      <td>0xdE2fACa4BBC0aca08fF04D387c39B6f6325bf82A</td>\n",
       "      <td>0x58b6A8A3302369DAEc383334672404Ee733aB239</td>\n",
       "      <td>0.000000</td>\n",
       "      <td>80000.0</td>\n",
       "      <td>14.397476</td>\n",
       "      <td>115497</td>\n",
       "      <td>2025-01-03 23:38:35</td>\n",
       "      <td>1</td>\n",
       "    </tr>\n",
       "    <tr>\n",
       "      <th>2</th>\n",
       "      <td>21546991</td>\n",
       "      <td>4f02098dba57dc6b2c5c57574676fcfd1a76ae28b87393...</td>\n",
       "      <td>0xdE2fACa4BBC0aca08fF04D387c39B6f6325bf82A</td>\n",
       "      <td>0x58b6A8A3302369DAEc383334672404Ee733aB239</td>\n",
       "      <td>0.000000</td>\n",
       "      <td>80000.0</td>\n",
       "      <td>14.387783</td>\n",
       "      <td>115498</td>\n",
       "      <td>2025-01-03 23:38:35</td>\n",
       "      <td>1</td>\n",
       "    </tr>\n",
       "    <tr>\n",
       "      <th>3</th>\n",
       "      <td>21546991</td>\n",
       "      <td>2eca45f56b9c2f891aae14f31c9906c25d02f938f7312a...</td>\n",
       "      <td>0xdE2fACa4BBC0aca08fF04D387c39B6f6325bf82A</td>\n",
       "      <td>0x58b6A8A3302369DAEc383334672404Ee733aB239</td>\n",
       "      <td>0.000000</td>\n",
       "      <td>80000.0</td>\n",
       "      <td>14.387783</td>\n",
       "      <td>115499</td>\n",
       "      <td>2025-01-03 23:38:35</td>\n",
       "      <td>1</td>\n",
       "    </tr>\n",
       "    <tr>\n",
       "      <th>4</th>\n",
       "      <td>21546991</td>\n",
       "      <td>1433db784e74effd8e13a49048d7961b7e233be6f9e4c6...</td>\n",
       "      <td>0x8D6eb769643E465e6525B41C46D2d646393EEF95</td>\n",
       "      <td>0xb0486420CeB01fdE5D0B874740DcA38940Aa432c</td>\n",
       "      <td>0.000000</td>\n",
       "      <td>100974.0</td>\n",
       "      <td>13.397476</td>\n",
       "      <td>9</td>\n",
       "      <td>2025-01-03 23:38:35</td>\n",
       "      <td>1</td>\n",
       "    </tr>\n",
       "    <tr>\n",
       "      <th>5</th>\n",
       "      <td>21546991</td>\n",
       "      <td>22fd89e5278bd60c93498f49bc2baf620572a1fca2287d...</td>\n",
       "      <td>0xCEEcaEa7E7e1FE89C1aF5342639769445e53bf75</td>\n",
       "      <td>0xF2bfbD55119e6e446f9cc691a133c76d544D766D</td>\n",
       "      <td>0.031500</td>\n",
       "      <td>21000.0</td>\n",
       "      <td>12.626118</td>\n",
       "      <td>83</td>\n",
       "      <td>2025-01-03 23:38:35</td>\n",
       "      <td>1</td>\n",
       "    </tr>\n",
       "    <tr>\n",
       "      <th>6</th>\n",
       "      <td>21546991</td>\n",
       "      <td>e51169b75993b592271478e46e4131c90181d2feddcb2e...</td>\n",
       "      <td>0xcabc46F4cFF0ED2ce86B9feA2e808A381D44FA4a</td>\n",
       "      <td>0xc575BD129848Ce06A460A19466c30E1D0328F52C</td>\n",
       "      <td>0.000000</td>\n",
       "      <td>53951.0</td>\n",
       "      <td>12.604139</td>\n",
       "      <td>131</td>\n",
       "      <td>2025-01-03 23:38:35</td>\n",
       "      <td>1</td>\n",
       "    </tr>\n",
       "    <tr>\n",
       "      <th>7</th>\n",
       "      <td>21546991</td>\n",
       "      <td>8e2ca968a893b3da35767d1b685605ea17dd6b546c5a51...</td>\n",
       "      <td>0x267be1C1D684F78cb4F6a176C4911b741E4Ffdc0</td>\n",
       "      <td>0xb4656E4FEDc5895B234e171E75079136401DF9B8</td>\n",
       "      <td>0.014612</td>\n",
       "      <td>21000.0</td>\n",
       "      <td>12.604139</td>\n",
       "      <td>4478623</td>\n",
       "      <td>2025-01-03 23:38:35</td>\n",
       "      <td>1</td>\n",
       "    </tr>\n",
       "    <tr>\n",
       "      <th>8</th>\n",
       "      <td>21546991</td>\n",
       "      <td>e6eafca1d5374097bd41cdd3fce5c7affd55808b5a51b7...</td>\n",
       "      <td>0xcabc46F4cFF0ED2ce86B9feA2e808A381D44FA4a</td>\n",
       "      <td>0x3fC91A3afd70395Cd496C647d5a6CC9D4B2b7FAD</td>\n",
       "      <td>0.000000</td>\n",
       "      <td>351909.0</td>\n",
       "      <td>12.604139</td>\n",
       "      <td>132</td>\n",
       "      <td>2025-01-03 23:38:35</td>\n",
       "      <td>1</td>\n",
       "    </tr>\n",
       "    <tr>\n",
       "      <th>9</th>\n",
       "      <td>21546991</td>\n",
       "      <td>5fdf4eaff7bb45b077a649674093f75301641bb5158c06...</td>\n",
       "      <td>0xAe2D4617c862309A3d75A0fFB358c7a5009c673F</td>\n",
       "      <td>0xA0b86991c6218b36c1d19D4a2e9Eb0cE3606eB48</td>\n",
       "      <td>0.000000</td>\n",
       "      <td>59890.0</td>\n",
       "      <td>12.604139</td>\n",
       "      <td>1223257</td>\n",
       "      <td>2025-01-03 23:38:35</td>\n",
       "      <td>1</td>\n",
       "    </tr>\n",
       "    <tr>\n",
       "      <th>10</th>\n",
       "      <td>21546991</td>\n",
       "      <td>f87b551daa65e616713b560f43951fdf3bc60d7ab6cba6...</td>\n",
       "      <td>0x21a31Ee1afC51d94C2eFcCAa2092aD1028285549</td>\n",
       "      <td>0xdAC17F958D2ee523a2206206994597C13D831ec7</td>\n",
       "      <td>0.000000</td>\n",
       "      <td>220436.0</td>\n",
       "      <td>12.604139</td>\n",
       "      <td>11007140</td>\n",
       "      <td>2025-01-03 23:38:35</td>\n",
       "      <td>1</td>\n",
       "    </tr>\n",
       "    <tr>\n",
       "      <th>11</th>\n",
       "      <td>21546991</td>\n",
       "      <td>9492b585c6d794f28a59ce7c2da254ab377bd08ff0e7d9...</td>\n",
       "      <td>0x4976A4A02f38326660D17bf34b431dC6e2eb2327</td>\n",
       "      <td>0x24254d5F10DDB77f513021295C7f924Fa692537b</td>\n",
       "      <td>0.032431</td>\n",
       "      <td>207128.0</td>\n",
       "      <td>12.604139</td>\n",
       "      <td>4653887</td>\n",
       "      <td>2025-01-03 23:38:35</td>\n",
       "      <td>1</td>\n",
       "    </tr>\n",
       "    <tr>\n",
       "      <th>12</th>\n",
       "      <td>21546991</td>\n",
       "      <td>627acb6d18ab0d7b42f88f33a2f61ac6425540550c73aa...</td>\n",
       "      <td>0x9696f59E4d72E237BE84fFD425DCaD154Bf96976</td>\n",
       "      <td>0x854B509f4BA2e1ff240AF070E17a00B4eFbC9f16</td>\n",
       "      <td>0.027700</td>\n",
       "      <td>207128.0</td>\n",
       "      <td>12.604139</td>\n",
       "      <td>7231978</td>\n",
       "      <td>2025-01-03 23:38:35</td>\n",
       "      <td>1</td>\n",
       "    </tr>\n",
       "    <tr>\n",
       "      <th>13</th>\n",
       "      <td>21546991</td>\n",
       "      <td>d0aba924c1d4eebf5e4f1d13c6ebf9484eaab2c7e74767...</td>\n",
       "      <td>0x28C6c06298d514Db089934071355E5743bf21d60</td>\n",
       "      <td>0x533b6585CaF29CB9c13161d3Ea1a9EbA8fFB39e6</td>\n",
       "      <td>0.005661</td>\n",
       "      <td>207128.0</td>\n",
       "      <td>12.604139</td>\n",
       "      <td>11347646</td>\n",
       "      <td>2025-01-03 23:38:35</td>\n",
       "      <td>1</td>\n",
       "    </tr>\n",
       "    <tr>\n",
       "      <th>14</th>\n",
       "      <td>21546991</td>\n",
       "      <td>28e389a2980a841e0fb8768052e12fb98ad1175e2d01fe...</td>\n",
       "      <td>0x267be1C1D684F78cb4F6a176C4911b741E4Ffdc0</td>\n",
       "      <td>0x7AD5Fea2A99A6374BF9A088Dc003941a5c3b5752</td>\n",
       "      <td>0.024000</td>\n",
       "      <td>21000.0</td>\n",
       "      <td>12.604139</td>\n",
       "      <td>4478624</td>\n",
       "      <td>2025-01-03 23:38:35</td>\n",
       "      <td>1</td>\n",
       "    </tr>\n",
       "    <tr>\n",
       "      <th>15</th>\n",
       "      <td>21546991</td>\n",
       "      <td>0188a1ccfd504b6a0f1646321c587851c53a6120747afd...</td>\n",
       "      <td>0x267be1C1D684F78cb4F6a176C4911b741E4Ffdc0</td>\n",
       "      <td>0x3c9C13fF50B2497082f15789D32f586C119e7350</td>\n",
       "      <td>0.039965</td>\n",
       "      <td>21000.0</td>\n",
       "      <td>12.604139</td>\n",
       "      <td>4478625</td>\n",
       "      <td>2025-01-03 23:38:35</td>\n",
       "      <td>1</td>\n",
       "    </tr>\n",
       "    <tr>\n",
       "      <th>16</th>\n",
       "      <td>21546991</td>\n",
       "      <td>4bc65a87afc4caaddb33a8c3242f4d88941ad0966859af...</td>\n",
       "      <td>0xBb232498E4112A5633DF3dd0aB17A7Bd139DD02a</td>\n",
       "      <td>0xA0b86991c6218b36c1d19D4a2e9Eb0cE3606eB48</td>\n",
       "      <td>0.000000</td>\n",
       "      <td>65203.0</td>\n",
       "      <td>12.604139</td>\n",
       "      <td>0</td>\n",
       "      <td>2025-01-03 23:38:35</td>\n",
       "      <td>1</td>\n",
       "    </tr>\n",
       "    <tr>\n",
       "      <th>17</th>\n",
       "      <td>21546991</td>\n",
       "      <td>232c8d9a3a839daf52f6ccb5398d76d80ad8d0cb1ed7b9...</td>\n",
       "      <td>0x89e51fA8CA5D66cd220bAed62ED01e8951aa7c40</td>\n",
       "      <td>0xdAC17F958D2ee523a2206206994597C13D831ec7</td>\n",
       "      <td>0.000000</td>\n",
       "      <td>55929.0</td>\n",
       "      <td>12.604139</td>\n",
       "      <td>2702761</td>\n",
       "      <td>2025-01-03 23:38:35</td>\n",
       "      <td>1</td>\n",
       "    </tr>\n",
       "    <tr>\n",
       "      <th>18</th>\n",
       "      <td>21546991</td>\n",
       "      <td>b0f8aaf440180a29b5e50c4e629e2317d9faae84ebeb4e...</td>\n",
       "      <td>0x63765a1F6df881927F6557ff222A18c2e6f2010B</td>\n",
       "      <td>0x99dCF3a4f70d6bd72bF2Bde463252649a704A34A</td>\n",
       "      <td>0.000678</td>\n",
       "      <td>24150.0</td>\n",
       "      <td>12.604139</td>\n",
       "      <td>8</td>\n",
       "      <td>2025-01-03 23:38:35</td>\n",
       "      <td>1</td>\n",
       "    </tr>\n",
       "    <tr>\n",
       "      <th>19</th>\n",
       "      <td>21546991</td>\n",
       "      <td>097fb234b4756ef490fe248d5cddc9d5c9fed8d0580069...</td>\n",
       "      <td>0x5c160d799d7e81295E32D9Aa5A2f719f5Ecf0935</td>\n",
       "      <td>0xA0b86991c6218b36c1d19D4a2e9Eb0cE3606eB48</td>\n",
       "      <td>0.000000</td>\n",
       "      <td>80000.0</td>\n",
       "      <td>12.604139</td>\n",
       "      <td>239</td>\n",
       "      <td>2025-01-03 23:38:35</td>\n",
       "      <td>1</td>\n",
       "    </tr>\n",
       "  </tbody>\n",
       "</table>\n",
       "</div>"
      ],
      "text/plain": [
       "    Block_Number                                   Transaction_Hash  \\\n",
       "0       21546991  b44eef65793f01e5e06ecdefb1767328673b9616afdd3e...   \n",
       "1       21546991  852cbee2827d81bcfcf529b979c7579ad868c95489f8aa...   \n",
       "2       21546991  4f02098dba57dc6b2c5c57574676fcfd1a76ae28b87393...   \n",
       "3       21546991  2eca45f56b9c2f891aae14f31c9906c25d02f938f7312a...   \n",
       "4       21546991  1433db784e74effd8e13a49048d7961b7e233be6f9e4c6...   \n",
       "5       21546991  22fd89e5278bd60c93498f49bc2baf620572a1fca2287d...   \n",
       "6       21546991  e51169b75993b592271478e46e4131c90181d2feddcb2e...   \n",
       "7       21546991  8e2ca968a893b3da35767d1b685605ea17dd6b546c5a51...   \n",
       "8       21546991  e6eafca1d5374097bd41cdd3fce5c7affd55808b5a51b7...   \n",
       "9       21546991  5fdf4eaff7bb45b077a649674093f75301641bb5158c06...   \n",
       "10      21546991  f87b551daa65e616713b560f43951fdf3bc60d7ab6cba6...   \n",
       "11      21546991  9492b585c6d794f28a59ce7c2da254ab377bd08ff0e7d9...   \n",
       "12      21546991  627acb6d18ab0d7b42f88f33a2f61ac6425540550c73aa...   \n",
       "13      21546991  d0aba924c1d4eebf5e4f1d13c6ebf9484eaab2c7e74767...   \n",
       "14      21546991  28e389a2980a841e0fb8768052e12fb98ad1175e2d01fe...   \n",
       "15      21546991  0188a1ccfd504b6a0f1646321c587851c53a6120747afd...   \n",
       "16      21546991  4bc65a87afc4caaddb33a8c3242f4d88941ad0966859af...   \n",
       "17      21546991  232c8d9a3a839daf52f6ccb5398d76d80ad8d0cb1ed7b9...   \n",
       "18      21546991  b0f8aaf440180a29b5e50c4e629e2317d9faae84ebeb4e...   \n",
       "19      21546991  097fb234b4756ef490fe248d5cddc9d5c9fed8d0580069...   \n",
       "\n",
       "                                  From_Address  \\\n",
       "0   0xC16157e00b1bFf1522C6F01246B4Fb621dA048d0   \n",
       "1   0xdE2fACa4BBC0aca08fF04D387c39B6f6325bf82A   \n",
       "2   0xdE2fACa4BBC0aca08fF04D387c39B6f6325bf82A   \n",
       "3   0xdE2fACa4BBC0aca08fF04D387c39B6f6325bf82A   \n",
       "4   0x8D6eb769643E465e6525B41C46D2d646393EEF95   \n",
       "5   0xCEEcaEa7E7e1FE89C1aF5342639769445e53bf75   \n",
       "6   0xcabc46F4cFF0ED2ce86B9feA2e808A381D44FA4a   \n",
       "7   0x267be1C1D684F78cb4F6a176C4911b741E4Ffdc0   \n",
       "8   0xcabc46F4cFF0ED2ce86B9feA2e808A381D44FA4a   \n",
       "9   0xAe2D4617c862309A3d75A0fFB358c7a5009c673F   \n",
       "10  0x21a31Ee1afC51d94C2eFcCAa2092aD1028285549   \n",
       "11  0x4976A4A02f38326660D17bf34b431dC6e2eb2327   \n",
       "12  0x9696f59E4d72E237BE84fFD425DCaD154Bf96976   \n",
       "13  0x28C6c06298d514Db089934071355E5743bf21d60   \n",
       "14  0x267be1C1D684F78cb4F6a176C4911b741E4Ffdc0   \n",
       "15  0x267be1C1D684F78cb4F6a176C4911b741E4Ffdc0   \n",
       "16  0xBb232498E4112A5633DF3dd0aB17A7Bd139DD02a   \n",
       "17  0x89e51fA8CA5D66cd220bAed62ED01e8951aa7c40   \n",
       "18  0x63765a1F6df881927F6557ff222A18c2e6f2010B   \n",
       "19  0x5c160d799d7e81295E32D9Aa5A2f719f5Ecf0935   \n",
       "\n",
       "                                    To_Address  Value_ETH  Gas_Used  \\\n",
       "0   0x9a15bB3a8FEc8d0d810691BAFE36f6e5d42360F7   0.027993  228664.0   \n",
       "1   0x58b6A8A3302369DAEc383334672404Ee733aB239   0.000000   80000.0   \n",
       "2   0x58b6A8A3302369DAEc383334672404Ee733aB239   0.000000   80000.0   \n",
       "3   0x58b6A8A3302369DAEc383334672404Ee733aB239   0.000000   80000.0   \n",
       "4   0xb0486420CeB01fdE5D0B874740DcA38940Aa432c   0.000000  100974.0   \n",
       "5   0xF2bfbD55119e6e446f9cc691a133c76d544D766D   0.031500   21000.0   \n",
       "6   0xc575BD129848Ce06A460A19466c30E1D0328F52C   0.000000   53951.0   \n",
       "7   0xb4656E4FEDc5895B234e171E75079136401DF9B8   0.014612   21000.0   \n",
       "8   0x3fC91A3afd70395Cd496C647d5a6CC9D4B2b7FAD   0.000000  351909.0   \n",
       "9   0xA0b86991c6218b36c1d19D4a2e9Eb0cE3606eB48   0.000000   59890.0   \n",
       "10  0xdAC17F958D2ee523a2206206994597C13D831ec7   0.000000  220436.0   \n",
       "11  0x24254d5F10DDB77f513021295C7f924Fa692537b   0.032431  207128.0   \n",
       "12  0x854B509f4BA2e1ff240AF070E17a00B4eFbC9f16   0.027700  207128.0   \n",
       "13  0x533b6585CaF29CB9c13161d3Ea1a9EbA8fFB39e6   0.005661  207128.0   \n",
       "14  0x7AD5Fea2A99A6374BF9A088Dc003941a5c3b5752   0.024000   21000.0   \n",
       "15  0x3c9C13fF50B2497082f15789D32f586C119e7350   0.039965   21000.0   \n",
       "16  0xA0b86991c6218b36c1d19D4a2e9Eb0cE3606eB48   0.000000   65203.0   \n",
       "17  0xdAC17F958D2ee523a2206206994597C13D831ec7   0.000000   55929.0   \n",
       "18  0x99dCF3a4f70d6bd72bF2Bde463252649a704A34A   0.000678   24150.0   \n",
       "19  0xA0b86991c6218b36c1d19D4a2e9Eb0cE3606eB48   0.000000   80000.0   \n",
       "\n",
       "    Gas_Price_Gwei     Nonce           Trans_Date Status  \n",
       "0        14.468592    255633  2025-01-03 23:38:35      1  \n",
       "1        14.397476    115497  2025-01-03 23:38:35      1  \n",
       "2        14.387783    115498  2025-01-03 23:38:35      1  \n",
       "3        14.387783    115499  2025-01-03 23:38:35      1  \n",
       "4        13.397476         9  2025-01-03 23:38:35      1  \n",
       "5        12.626118        83  2025-01-03 23:38:35      1  \n",
       "6        12.604139       131  2025-01-03 23:38:35      1  \n",
       "7        12.604139   4478623  2025-01-03 23:38:35      1  \n",
       "8        12.604139       132  2025-01-03 23:38:35      1  \n",
       "9        12.604139   1223257  2025-01-03 23:38:35      1  \n",
       "10       12.604139  11007140  2025-01-03 23:38:35      1  \n",
       "11       12.604139   4653887  2025-01-03 23:38:35      1  \n",
       "12       12.604139   7231978  2025-01-03 23:38:35      1  \n",
       "13       12.604139  11347646  2025-01-03 23:38:35      1  \n",
       "14       12.604139   4478624  2025-01-03 23:38:35      1  \n",
       "15       12.604139   4478625  2025-01-03 23:38:35      1  \n",
       "16       12.604139         0  2025-01-03 23:38:35      1  \n",
       "17       12.604139   2702761  2025-01-03 23:38:35      1  \n",
       "18       12.604139         8  2025-01-03 23:38:35      1  \n",
       "19       12.604139       239  2025-01-03 23:38:35      1  "
      ]
     },
     "execution_count": 58,
     "metadata": {},
     "output_type": "execute_result"
    }
   ],
   "source": [
    "# Save the cleaned data back to a new CSV file\n",
    "df.to_csv('cleaned_transaction_data.csv', index=False)\n",
    "df= pd.read_csv('cleaned_transaction_data.csv')\n",
    "df.head(20)"
   ]
  },
  {
   "cell_type": "markdown",
   "metadata": {},
   "source": [
    "# Analyse des donnees\n",
    "• Utilisation de pandas et numpy pour analyser les volumes de\n",
    "transactions, les comportements de dépenses et les mouvements de\n",
    "cryptomonnaies.\n",
    "\n",
    "\n",
    "Data Analysis : Python (pandas, numpy) pour l'analyse des données\n",
    "financières et des transactions blockchain.\n",
    "• Visualisation : Matplotlib, Seaborn, Plotly, Grafana pour les tableaux de bord\n",
    "financiers et blockchain.\n",
    "\n",
    "Tableaux de bord interactifs :\n",
    "-pour la visualisation en temps réel des\n",
    "transactions financières (traditionnelles et blockchain).\n",
    "-pour visualiser les tendances financières, les flux de trésorerie et les volumes de transactions\n",
    "blockchain. \n",
    "-pour visualiser en temps réel les transactions blockchain (montants, tokens échangés) ainsi que\n",
    "les transactions traditionnelles."
   ]
  },
  {
   "cell_type": "markdown",
   "metadata": {},
   "source": [
    "## I- Analyse des volumes de transactions, les comportements de dépenses et les mouvements de cryptomonnaies."
   ]
  },
  {
   "cell_type": "markdown",
   "metadata": {},
   "source": [
    "### 1. Analyse des volumes de transactions :"
   ]
  },
  {
   "cell_type": "code",
   "execution_count": 60,
   "metadata": {},
   "outputs": [
    {
     "data": {
      "text/html": [
       "<div>\n",
       "<style scoped>\n",
       "    .dataframe tbody tr th:only-of-type {\n",
       "        vertical-align: middle;\n",
       "    }\n",
       "\n",
       "    .dataframe tbody tr th {\n",
       "        vertical-align: top;\n",
       "    }\n",
       "\n",
       "    .dataframe thead th {\n",
       "        text-align: right;\n",
       "    }\n",
       "</style>\n",
       "<table border=\"1\" class=\"dataframe\">\n",
       "  <thead>\n",
       "    <tr style=\"text-align: right;\">\n",
       "      <th></th>\n",
       "      <th>Block_Number</th>\n",
       "      <th>Nombre_Transactions</th>\n",
       "      <th>Volume_Total_ETH</th>\n",
       "    </tr>\n",
       "  </thead>\n",
       "  <tbody>\n",
       "    <tr>\n",
       "      <th>0</th>\n",
       "      <td>21546792</td>\n",
       "      <td>236</td>\n",
       "      <td>1.813806</td>\n",
       "    </tr>\n",
       "    <tr>\n",
       "      <th>1</th>\n",
       "      <td>21546793</td>\n",
       "      <td>149</td>\n",
       "      <td>1.134339</td>\n",
       "    </tr>\n",
       "    <tr>\n",
       "      <th>2</th>\n",
       "      <td>21546794</td>\n",
       "      <td>35</td>\n",
       "      <td>0.493698</td>\n",
       "    </tr>\n",
       "    <tr>\n",
       "      <th>3</th>\n",
       "      <td>21546795</td>\n",
       "      <td>259</td>\n",
       "      <td>3.034619</td>\n",
       "    </tr>\n",
       "    <tr>\n",
       "      <th>4</th>\n",
       "      <td>21546796</td>\n",
       "      <td>182</td>\n",
       "      <td>2.676479</td>\n",
       "    </tr>\n",
       "  </tbody>\n",
       "</table>\n",
       "</div>"
      ],
      "text/plain": [
       "   Block_Number  Nombre_Transactions  Volume_Total_ETH\n",
       "0      21546792                  236          1.813806\n",
       "1      21546793                  149          1.134339\n",
       "2      21546794                   35          0.493698\n",
       "3      21546795                  259          3.034619\n",
       "4      21546796                  182          2.676479"
      ]
     },
     "execution_count": 60,
     "metadata": {},
     "output_type": "execute_result"
    }
   ],
   "source": [
    "# 1- Nombre de transactions par bloc\n",
    "volume_transactions_par_bloc = df.groupby('Block_Number')['Value_ETH'].agg(['count', 'sum']).reset_index()\n",
    "\n",
    "\n",
    "volume_transactions_par_bloc.columns = ['Block_Number', 'Nombre_Transactions', 'Volume_Total_ETH']\n",
    "\n",
    "volume_transactions_par_bloc.head()\n",
    "\n",
    "\n"
   ]
  },
  {
   "cell_type": "code",
   "execution_count": 61,
   "metadata": {},
   "outputs": [
    {
     "data": {
      "text/html": [
       "<div>\n",
       "<style scoped>\n",
       "    .dataframe tbody tr th:only-of-type {\n",
       "        vertical-align: middle;\n",
       "    }\n",
       "\n",
       "    .dataframe tbody tr th {\n",
       "        vertical-align: top;\n",
       "    }\n",
       "\n",
       "    .dataframe thead th {\n",
       "        text-align: right;\n",
       "    }\n",
       "</style>\n",
       "<table border=\"1\" class=\"dataframe\">\n",
       "  <thead>\n",
       "    <tr style=\"text-align: right;\">\n",
       "      <th></th>\n",
       "      <th>Trans_Date</th>\n",
       "      <th>Number of Transactions</th>\n",
       "    </tr>\n",
       "  </thead>\n",
       "  <tbody>\n",
       "    <tr>\n",
       "      <th>0</th>\n",
       "      <td>2025-01-03 22:58:35</td>\n",
       "      <td>236</td>\n",
       "    </tr>\n",
       "    <tr>\n",
       "      <th>1</th>\n",
       "      <td>2025-01-03 22:58:47</td>\n",
       "      <td>149</td>\n",
       "    </tr>\n",
       "    <tr>\n",
       "      <th>2</th>\n",
       "      <td>2025-01-03 22:58:59</td>\n",
       "      <td>35</td>\n",
       "    </tr>\n",
       "    <tr>\n",
       "      <th>3</th>\n",
       "      <td>2025-01-03 22:59:11</td>\n",
       "      <td>259</td>\n",
       "    </tr>\n",
       "    <tr>\n",
       "      <th>4</th>\n",
       "      <td>2025-01-03 22:59:23</td>\n",
       "      <td>182</td>\n",
       "    </tr>\n",
       "  </tbody>\n",
       "</table>\n",
       "</div>"
      ],
      "text/plain": [
       "            Trans_Date  Number of Transactions\n",
       "0  2025-01-03 22:58:35                     236\n",
       "1  2025-01-03 22:58:47                     149\n",
       "2  2025-01-03 22:58:59                      35\n",
       "3  2025-01-03 22:59:11                     259\n",
       "4  2025-01-03 22:59:23                     182"
      ]
     },
     "execution_count": 61,
     "metadata": {},
     "output_type": "execute_result"
    }
   ],
   "source": [
    "# nombre de transactions par time\n",
    "transactions_per_datetime = df.groupby('Trans_Date').size().reset_index(name='Number of Transactions')\n",
    "transactions_per_datetime.head()\n"
   ]
  },
  {
   "cell_type": "code",
   "execution_count": 62,
   "metadata": {},
   "outputs": [
    {
     "name": "stdout",
     "output_type": "stream",
     "text": [
      "Volume total des transactions en ETH : 255.79 ETH\n"
     ]
    }
   ],
   "source": [
    "# Somme des valeurs des transactions (en ETH)\n",
    "df = df[df['Status']=='1'].copy()\n",
    "total_volume_eth = df['Value_ETH'].sum()\n",
    "print(f\"Volume total des transactions en ETH : {total_volume_eth:.2f} ETH\")"
   ]
  },
  {
   "cell_type": "code",
   "execution_count": 63,
   "metadata": {},
   "outputs": [
    {
     "name": "stdout",
     "output_type": "stream",
     "text": [
      "Le volume total de gaz utilisé est : 3163389270.0 unités\n"
     ]
    }
   ],
   "source": [
    "# Calcul du volume total de gaz utilisé\n",
    "volume_total_gaz = df['Gas_Used'].sum()\n",
    "\n",
    "# Affichage du résultat\n",
    "print(f\"Le volume total de gaz utilisé est : {volume_total_gaz} unités\")\n"
   ]
  },
  {
   "cell_type": "markdown",
   "metadata": {},
   "source": [
    "### 2. Analyse des comportements de dépenses :"
   ]
  },
  {
   "cell_type": "code",
   "execution_count": 64,
   "metadata": {},
   "outputs": [
    {
     "data": {
      "image/png": "[encoded data removed]",
      "text/plain": [
       "<Figure size 1000x600 with 1 Axes>"
      ]
     },
     "metadata": {},
     "output_type": "display_data"
    }
   ],
   "source": [
    "# Transactions par utilisateur (From Address)\n",
    "depense_par_utilisateur = df.groupby('From_Address')['Value_ETH'].sum()\n",
    "\n",
    "top_10_depense_par_utilisateur = depense_par_utilisateur.nlargest(10)\n",
    "\n",
    "fig, ax = plt.subplots(figsize=(10, 6))\n",
    "top_10_depense_par_utilisateur.plot(kind='bar', ax=ax)\n",
    "\n",
    "ax.set_title(\"Top 10 des plus gros dépensiers en ETH\")\n",
    "ax.set_xlabel(\"Adresse expéditrice\")\n",
    "ax.set_ylabel(\"Montant en ETH\")\n",
    "plt.xticks(rotation=45, ha='right')  \n",
    "plt.tight_layout() \n",
    "plt.show()\n"
   ]
  },
  {
   "cell_type": "code",
   "execution_count": 65,
   "metadata": {},
   "outputs": [
    {
     "data": {
      "image/png": "[encoded data removed]",
      "text/plain": [
       "<Figure size 1000x600 with 1 Axes>"
      ]
     },
     "metadata": {},
     "output_type": "display_data"
    }
   ],
   "source": [
    "# Nombre de transactions par adresse expéditrice\n",
    "nb_transactions_par_utilisateur = df['From_Address'].value_counts()\n",
    "\n",
    "\n",
    "# le nombre de transactions des 10 utilisateurs les plus actifs\n",
    "nb_transactions_par_utilisateur.head(10).plot(kind='bar', figsize=(10, 6))\n",
    "plt.title(\"Top 10 des utilisateurs les plus actifs par nombre de transactions\")\n",
    "plt.xlabel(\"Adresse expéditrice\")\n",
    "plt.ylabel(\"Nombre de transactions\")\n",
    "plt.show()\n"
   ]
  },
  {
   "cell_type": "markdown",
   "metadata": {},
   "source": [
    "### 3.Analyser les mouvements de cryptomonnaies"
   ]
  },
  {
   "cell_type": "code",
   "execution_count": 66,
   "metadata": {},
   "outputs": [
    {
     "data": {
      "image/png": "[encoded data removed]",
      "text/plain": [
       "<Figure size 1000x600 with 1 Axes>"
      ]
     },
     "metadata": {},
     "output_type": "display_data"
    }
   ],
   "source": [
    "# a- Mouvements entrants et sortants\n",
    "\n",
    "# Total reçu par chaque adresse (To Address)\n",
    "total_recu_par_utilisateur = df.groupby('To_Address')['Value_ETH'].sum()\n",
    "\n",
    "# Total envoyé par chaque adresse (From Address)\n",
    "total_envoye_par_utilisateur = df.groupby('From_Address')['Value_ETH'].sum()\n",
    "\n",
    "\n",
    "# Visualiser les mouvements entrants et sortants\n",
    "plt.figure(figsize=(10, 6))\n",
    "total_recu_par_utilisateur.sort_values(ascending=False).head(10).plot(kind='bar', color='green', alpha=0.6, label='Reçu')\n",
    "total_envoye_par_utilisateur.sort_values(ascending=False).head(10).plot(kind='bar', color='red', alpha=0.6, label='Envoyé')\n",
    "plt.title(\"Mouvements de cryptomonnaies (Top 10)\")\n",
    "plt.xlabel(\"Adresse\")\n",
    "plt.ylabel(\"Montant en ETH\")\n",
    "plt.legend()\n",
    "plt.show()\n"
   ]
  },
  {
   "cell_type": "code",
   "execution_count": 67,
   "metadata": {},
   "outputs": [
    {
     "data": {
      "image/png": "[encoded data removed]",
      "text/plain": [
       "<Figure size 1200x600 with 1 Axes>"
      ]
     },
     "metadata": {},
     "output_type": "display_data"
    }
   ],
   "source": [
    "## b-Mouvements de cryptomonnaies par bloc (Volume total en ETH)\n",
    "mouvements_par_bloc = df.groupby('Block_Number')['Value_ETH'].sum().reset_index()\n",
    "\n",
    "plt.figure(figsize=(12, 6))\n",
    "sns.lineplot(x='Block_Number', y='Value_ETH', data=mouvements_par_bloc, marker='o', color='orange')\n",
    "\n",
    "plt.title(\"Mouvements de cryptomonnaies par bloc (Volume total en ETH)\", fontsize=16)\n",
    "plt.xlabel(\"Numéro du bloc\", fontsize=12)\n",
    "plt.ylabel(\"Volume total déplacé en ETH\", fontsize=12)\n",
    "plt.xticks(rotation=45)\n",
    "plt.show()\n"
   ]
  },
  {
   "cell_type": "code",
   "execution_count": 68,
   "metadata": {},
   "outputs": [
    {
     "data": {
      "image/png": "[encoded data removed]",
      "text/plain": [
       "<Figure size 1000x600 with 1 Axes>"
      ]
     },
     "metadata": {},
     "output_type": "display_data"
    }
   ],
   "source": [
    "# Moyenne des frais de gas par bloc (en ETH)\n",
    "# Assurez-vous que 'Gas Used' et 'Gas Price (Gwei)' sont bien au format numérique\n",
    "df['Gas_Used'] = pd.to_numeric(df['Gas_Used'], errors='coerce')\n",
    "df['Gas_Price_Gwei'] = pd.to_numeric(df['Gas_Price_Gwei'], errors='coerce')\n",
    "\n",
    "# Calculer les frais de gas (Gas Used * Gas Price en ETH)\n",
    "# Note: 1 Gwei = 1e-9 ETH, donc il faut convertir en ETH\n",
    "df['Gas_Fees_ETH'] = df['Gas_Used'] * df['Gas_Price_Gwei'] * 1e-9\n",
    "\n",
    "# Grouper par bloc et calculer la moyenne des frais de gas par bloc\n",
    "moyenne_frais_gas_par_bloc = df.groupby('Block_Number')['Gas_Fees_ETH'].mean().reset_index()\n",
    "\n",
    "# Visualiser la moyenne des frais de gas par bloc avec un lineplot\n",
    "plt.figure(figsize=(10, 6))\n",
    "sns.lineplot(x='Block_Number', y='Gas_Fees_ETH', data=moyenne_frais_gas_par_bloc, marker='o', color='orange')\n",
    "\n",
    "# Ajouter des labels et un titre\n",
    "plt.title(\"Moyenne des frais de gas par bloc (en ETH)\", fontsize=16)\n",
    "plt.xlabel(\"Numéro du bloc\", fontsize=12)\n",
    "plt.ylabel(\"Moyenne des frais de gas (ETH)\", fontsize=12)\n",
    "\n",
    "# Afficher le graphique\n",
    "plt.show()\n"
   ]
  },
  {
   "cell_type": "markdown",
   "metadata": {},
   "source": [
    "# II- Tableau de bord"
   ]
  },
  {
   "cell_type": "markdown",
   "metadata": {},
   "source": []
  },
  {
   "cell_type": "code",
   "execution_count": 73,
   "metadata": {},
   "outputs": [
    {
     "data": {
      "application/vnd.plotly.v1+json": {
       "config": {
        "plotlyServerURL": "https://plot.ly"
       },
       "data": [
        {
         "hovertemplate": "Datetime=%{x}<br>Flux Financier (ETH)=%{y}<extra></extra>",
         "legendgroup": "",
         "line": {
          "color": "#636efa",
          "dash": "solid"
         },
         "marker": {
          "symbol": "circle"
         },
         "mode": "lines",
         "name": "",
         "orientation": "v",
         "showlegend": false,
         "type": "scatter",
         "x": [
          "2025-01-03T22:58:00",
          "2025-01-03T22:59:00",
          "2025-01-03T23:00:00",
          "2025-01-03T23:01:00",
          "2025-01-03T23:02:00",
          "2025-01-03T23:03:00",
          "2025-01-03T23:04:00",
          "2025-01-03T23:05:00",
          "2025-01-03T23:06:00",
          "2025-01-03T23:07:00",
          "2025-01-03T23:08:00",
          "2025-01-03T23:09:00",
          "2025-01-03T23:10:00",
          "2025-01-03T23:11:00",
          "2025-01-03T23:12:00",
          "2025-01-03T23:13:00",
          "2025-01-03T23:14:00",
          "2025-01-03T23:15:00",
          "2025-01-03T23:16:00",
          "2025-01-03T23:17:00",
          "2025-01-03T23:18:00",
          "2025-01-03T23:19:00",
          "2025-01-03T23:20:00",
          "2025-01-03T23:21:00",
          "2025-01-03T23:22:00",
          "2025-01-03T23:23:00",
          "2025-01-03T23:24:00",
          "2025-01-03T23:25:00",
          "2025-01-03T23:26:00",
          "2025-01-03T23:27:00",
          "2025-01-03T23:28:00",
          "2025-01-03T23:29:00",
          "2025-01-03T23:30:00",
          "2025-01-03T23:31:00",
          "2025-01-03T23:32:00",
          "2025-01-03T23:33:00",
          "2025-01-03T23:34:00",
          "2025-01-03T23:35:00",
          "2025-01-03T23:36:00",
          "2025-01-03T23:37:00",
          "2025-01-03T23:38:00"
         ],
         "xaxis": "x",
         "y": [
          3.4418436052097885,
          8.250965029531026,
          5.829092077231627,
          8.277082721896088,
          5.451553096279416,
          5.616655367659999,
          8.135091730428089,
          6.068427249449707,
          6.622120468050518,
          7.053495474692723,
          7.834233995450842,
          3.8358762268676534,
          6.104829221307916,
          7.164741694382818,
          5.229303060501799,
          5.845477993658131,
          7.314134054964213,
          6.640212738410536,
          5.229192626639932,
          5.770188796971072,
          6.550544241013967,
          5.3905481280825605,
          7.007827781334732,
          7.026735953541464,
          6.02832123570208,
          6.43606521541089,
          7.053614701498416,
          5.763534832622539,
          6.699860449738828,
          5.192206103769427,
          7.207542464430862,
          6.214116173966906,
          6.8653334812952345,
          4.275189174624288,
          7.570575099794593,
          4.578035536496969,
          7.348406504432668,
          6.2732001245607085,
          6.249209012731616,
          7.316601654211467,
          3.026103294833299
         ],
         "yaxis": "y"
        }
       ],
       "layout": {
        "legend": {
         "tracegroupgap": 0
        },
        "template": {
         "data": {
          "bar": [
           {
            "error_x": {
             "color": "#2a3f5f"
            },
            "error_y": {
             "color": "#2a3f5f"
            },
            "marker": {
             "line": {
              "color": "#E5ECF6",
              "width": 0.5
             },
             "pattern": {
              "fillmode": "overlay",
              "size": 10,
              "solidity": 0.2
             }
            },
            "type": "bar"
           }
          ],
          "barpolar": [
           {
            "marker": {
             "line": {
              "color": "#E5ECF6",
              "width": 0.5
             },
             "pattern": {
              "fillmode": "overlay",
              "size": 10,
              "solidity": 0.2
             }
            },
            "type": "barpolar"
           }
          ],
          "carpet": [
           {
            "aaxis": {
             "endlinecolor": "#2a3f5f",
             "gridcolor": "white",
             "linecolor": "white",
             "minorgridcolor": "white",
             "startlinecolor": "#2a3f5f"
            },
            "baxis": {
             "endlinecolor": "#2a3f5f",
             "gridcolor": "white",
             "linecolor": "white",
             "minorgridcolor": "white",
             "startlinecolor": "#2a3f5f"
            },
            "type": "carpet"
           }
          ],
          "choropleth": [
           {
            "colorbar": {
             "outlinewidth": 0,
             "ticks": ""
            },
            "type": "choropleth"
           }
          ],
          "contour": [
           {
            "colorbar": {
             "outlinewidth": 0,
             "ticks": ""
            },
            "colorscale": [
             [
              0,
              "#0d0887"
             ],
             [
              0.1111111111111111,
              "#46039f"
             ],
             [
              0.2222222222222222,
              "#7201a8"
             ],
             [
              0.3333333333333333,
              "#9c179e"
             ],
             [
              0.4444444444444444,
              "#bd3786"
             ],
             [
              0.5555555555555556,
              "#d8576b"
             ],
             [
              0.6666666666666666,
              "#ed7953"
             ],
             [
              0.7777777777777778,
              "#fb9f3a"
             ],
             [
              0.8888888888888888,
              "#fdca26"
             ],
             [
              1,
              "#f0f921"
             ]
            ],
            "type": "contour"
           }
          ],
          "contourcarpet": [
           {
            "colorbar": {
             "outlinewidth": 0,
             "ticks": ""
            },
            "type": "contourcarpet"
           }
          ],
          "heatmap": [
           {
            "colorbar": {
             "outlinewidth": 0,
             "ticks": ""
            },
            "colorscale": [
             [
              0,
              "#0d0887"
             ],
             [
              0.1111111111111111,
              "#46039f"
             ],
             [
              0.2222222222222222,
              "#7201a8"
             ],
             [
              0.3333333333333333,
              "#9c179e"
             ],
             [
              0.4444444444444444,
              "#bd3786"
             ],
             [
              0.5555555555555556,
              "#d8576b"
             ],
             [
              0.6666666666666666,
              "#ed7953"
             ],
             [
              0.7777777777777778,
              "#fb9f3a"
             ],
             [
              0.8888888888888888,
              "#fdca26"
             ],
             [
              1,
              "#f0f921"
             ]
            ],
            "type": "heatmap"
           }
          ],
          "heatmapgl": [
           {
            "colorbar": {
             "outlinewidth": 0,
             "ticks": ""
            },
            "colorscale": [
             [
              0,
              "#0d0887"
             ],
             [
              0.1111111111111111,
              "#46039f"
             ],
             [
              0.2222222222222222,
              "#7201a8"
             ],
             [
              0.3333333333333333,
              "#9c179e"
             ],
             [
              0.4444444444444444,
              "#bd3786"
             ],
             [
              0.5555555555555556,
              "#d8576b"
             ],
             [
              0.6666666666666666,
              "#ed7953"
             ],
             [
              0.7777777777777778,
              "#fb9f3a"
             ],
             [
              0.8888888888888888,
              "#fdca26"
             ],
             [
              1,
              "#f0f921"
             ]
            ],
            "type": "heatmapgl"
           }
          ],
          "histogram": [
           {
            "marker": {
             "pattern": {
              "fillmode": "overlay",
              "size": 10,
              "solidity": 0.2
             }
            },
            "type": "histogram"
           }
          ],
          "histogram2d": [
           {
            "colorbar": {
             "outlinewidth": 0,
             "ticks": ""
            },
            "colorscale": [
             [
              0,
              "#0d0887"
             ],
             [
              0.1111111111111111,
              "#46039f"
             ],
             [
              0.2222222222222222,
              "#7201a8"
             ],
             [
              0.3333333333333333,
              "#9c179e"
             ],
             [
              0.4444444444444444,
              "#bd3786"
             ],
             [
              0.5555555555555556,
              "#d8576b"
             ],
             [
              0.6666666666666666,
              "#ed7953"
             ],
             [
              0.7777777777777778,
              "#fb9f3a"
             ],
             [
              0.8888888888888888,
              "#fdca26"
             ],
             [
              1,
              "#f0f921"
             ]
            ],
            "type": "histogram2d"
           }
          ],
          "histogram2dcontour": [
           {
            "colorbar": {
             "outlinewidth": 0,
             "ticks": ""
            },
            "colorscale": [
             [
              0,
              "#0d0887"
             ],
             [
              0.1111111111111111,
              "#46039f"
             ],
             [
              0.2222222222222222,
              "#7201a8"
             ],
             [
              0.3333333333333333,
              "#9c179e"
             ],
             [
              0.4444444444444444,
              "#bd3786"
             ],
             [
              0.5555555555555556,
              "#d8576b"
             ],
             [
              0.6666666666666666,
              "#ed7953"
             ],
             [
              0.7777777777777778,
              "#fb9f3a"
             ],
             [
              0.8888888888888888,
              "#fdca26"
             ],
             [
              1,
              "#f0f921"
             ]
            ],
            "type": "histogram2dcontour"
           }
          ],
          "mesh3d": [
           {
            "colorbar": {
             "outlinewidth": 0,
             "ticks": ""
            },
            "type": "mesh3d"
           }
          ],
          "parcoords": [
           {
            "line": {
             "colorbar": {
              "outlinewidth": 0,
              "ticks": ""
             }
            },
            "type": "parcoords"
           }
          ],
          "pie": [
           {
            "automargin": true,
            "type": "pie"
           }
          ],
          "scatter": [
           {
            "fillpattern": {
             "fillmode": "overlay",
             "size": 10,
             "solidity": 0.2
            },
            "type": "scatter"
           }
          ],
          "scatter3d": [
           {
            "line": {
             "colorbar": {
              "outlinewidth": 0,
              "ticks": ""
             }
            },
            "marker": {
             "colorbar": {
              "outlinewidth": 0,
              "ticks": ""
             }
            },
            "type": "scatter3d"
           }
          ],
          "scattercarpet": [
           {
            "marker": {
             "colorbar": {
              "outlinewidth": 0,
              "ticks": ""
             }
            },
            "type": "scattercarpet"
           }
          ],
          "scattergeo": [
           {
            "marker": {
             "colorbar": {
              "outlinewidth": 0,
              "ticks": ""
             }
            },
            "type": "scattergeo"
           }
          ],
          "scattergl": [
           {
            "marker": {
             "colorbar": {
              "outlinewidth": 0,
              "ticks": ""
             }
            },
            "type": "scattergl"
           }
          ],
          "scattermapbox": [
           {
            "marker": {
             "colorbar": {
              "outlinewidth": 0,
              "ticks": ""
             }
            },
            "type": "scattermapbox"
           }
          ],
          "scatterpolar": [
           {
            "marker": {
             "colorbar": {
              "outlinewidth": 0,
              "ticks": ""
             }
            },
            "type": "scatterpolar"
           }
          ],
          "scatterpolargl": [
           {
            "marker": {
             "colorbar": {
              "outlinewidth": 0,
              "ticks": ""
             }
            },
            "type": "scatterpolargl"
           }
          ],
          "scatterternary": [
           {
            "marker": {
             "colorbar": {
              "outlinewidth": 0,
              "ticks": ""
             }
            },
            "type": "scatterternary"
           }
          ],
          "surface": [
           {
            "colorbar": {
             "outlinewidth": 0,
             "ticks": ""
            },
            "colorscale": [
             [
              0,
              "#0d0887"
             ],
             [
              0.1111111111111111,
              "#46039f"
             ],
             [
              0.2222222222222222,
              "#7201a8"
             ],
             [
              0.3333333333333333,
              "#9c179e"
             ],
             [
              0.4444444444444444,
              "#bd3786"
             ],
             [
              0.5555555555555556,
              "#d8576b"
             ],
             [
              0.6666666666666666,
              "#ed7953"
             ],
             [
              0.7777777777777778,
              "#fb9f3a"
             ],
             [
              0.8888888888888888,
              "#fdca26"
             ],
             [
              1,
              "#f0f921"
             ]
            ],
            "type": "surface"
           }
          ],
          "table": [
           {
            "cells": {
             "fill": {
              "color": "#EBF0F8"
             },
             "line": {
              "color": "white"
             }
            },
            "header": {
             "fill": {
              "color": "#C8D4E3"
             },
             "line": {
              "color": "white"
             }
            },
            "type": "table"
           }
          ]
         },
         "layout": {
          "annotationdefaults": {
           "arrowcolor": "#2a3f5f",
           "arrowhead": 0,
           "arrowwidth": 1
          },
          "autotypenumbers": "strict",
          "coloraxis": {
           "colorbar": {
            "outlinewidth": 0,
            "ticks": ""
           }
          },
          "colorscale": {
           "diverging": [
            [
             0,
             "#8e0152"
            ],
            [
             0.1,
             "#c51b7d"
            ],
            [
             0.2,
             "#de77ae"
            ],
            [
             0.3,
             "#f1b6da"
            ],
            [
             0.4,
             "#fde0ef"
            ],
            [
             0.5,
             "#f7f7f7"
            ],
            [
             0.6,
             "#e6f5d0"
            ],
            [
             0.7,
             "#b8e186"
            ],
            [
             0.8,
             "#7fbc41"
            ],
            [
             0.9,
             "#4d9221"
            ],
            [
             1,
             "#276419"
            ]
           ],
           "sequential": [
            [
             0,
             "#0d0887"
            ],
            [
             0.1111111111111111,
             "#46039f"
            ],
            [
             0.2222222222222222,
             "#7201a8"
            ],
            [
             0.3333333333333333,
             "#9c179e"
            ],
            [
             0.4444444444444444,
             "#bd3786"
            ],
            [
             0.5555555555555556,
             "#d8576b"
            ],
            [
             0.6666666666666666,
             "#ed7953"
            ],
            [
             0.7777777777777778,
             "#fb9f3a"
            ],
            [
             0.8888888888888888,
             "#fdca26"
            ],
            [
             1,
             "#f0f921"
            ]
           ],
           "sequentialminus": [
            [
             0,
             "#0d0887"
            ],
            [
             0.1111111111111111,
             "#46039f"
            ],
            [
             0.2222222222222222,
             "#7201a8"
            ],
            [
             0.3333333333333333,
             "#9c179e"
            ],
            [
             0.4444444444444444,
             "#bd3786"
            ],
            [
             0.5555555555555556,
             "#d8576b"
            ],
            [
             0.6666666666666666,
             "#ed7953"
            ],
            [
             0.7777777777777778,
             "#fb9f3a"
            ],
            [
             0.8888888888888888,
             "#fdca26"
            ],
            [
             1,
             "#f0f921"
            ]
           ]
          },
          "colorway": [
           "#636efa",
           "#EF553B",
           "#00cc96",
           "#ab63fa",
           "#FFA15A",
           "#19d3f3",
           "#FF6692",
           "#B6E880",
           "#FF97FF",
           "#FECB52"
          ],
          "font": {
           "color": "#2a3f5f"
          },
          "geo": {
           "bgcolor": "white",
           "lakecolor": "white",
           "landcolor": "#E5ECF6",
           "showlakes": true,
           "showland": true,
           "subunitcolor": "white"
          },
          "hoverlabel": {
           "align": "left"
          },
          "hovermode": "closest",
          "mapbox": {
           "style": "light"
          },
          "paper_bgcolor": "white",
          "plot_bgcolor": "#E5ECF6",
          "polar": {
           "angularaxis": {
            "gridcolor": "white",
            "linecolor": "white",
            "ticks": ""
           },
           "bgcolor": "#E5ECF6",
           "radialaxis": {
            "gridcolor": "white",
            "linecolor": "white",
            "ticks": ""
           }
          },
          "scene": {
           "xaxis": {
            "backgroundcolor": "#E5ECF6",
            "gridcolor": "white",
            "gridwidth": 2,
            "linecolor": "white",
            "showbackground": true,
            "ticks": "",
            "zerolinecolor": "white"
           },
           "yaxis": {
            "backgroundcolor": "#E5ECF6",
            "gridcolor": "white",
            "gridwidth": 2,
            "linecolor": "white",
            "showbackground": true,
            "ticks": "",
            "zerolinecolor": "white"
           },
           "zaxis": {
            "backgroundcolor": "#E5ECF6",
            "gridcolor": "white",
            "gridwidth": 2,
            "linecolor": "white",
            "showbackground": true,
            "ticks": "",
            "zerolinecolor": "white"
           }
          },
          "shapedefaults": {
           "line": {
            "color": "#2a3f5f"
           }
          },
          "ternary": {
           "aaxis": {
            "gridcolor": "white",
            "linecolor": "white",
            "ticks": ""
           },
           "baxis": {
            "gridcolor": "white",
            "linecolor": "white",
            "ticks": ""
           },
           "bgcolor": "#E5ECF6",
           "caxis": {
            "gridcolor": "white",
            "linecolor": "white",
            "ticks": ""
           }
          },
          "title": {
           "x": 0.05
          },
          "xaxis": {
           "automargin": true,
           "gridcolor": "white",
           "linecolor": "white",
           "ticks": "",
           "title": {
            "standoff": 15
           },
           "zerolinecolor": "white",
           "zerolinewidth": 2
          },
          "yaxis": {
           "automargin": true,
           "gridcolor": "white",
           "linecolor": "white",
           "ticks": "",
           "title": {
            "standoff": 15
           },
           "zerolinecolor": "white",
           "zerolinewidth": 2
          }
         }
        },
        "title": {
         "text": "Flux de trésorerie par minute"
        },
        "xaxis": {
         "anchor": "y",
         "domain": [
          0,
          1
         ],
         "title": {
          "text": "Datetime"
         }
        },
        "yaxis": {
         "anchor": "x",
         "domain": [
          0,
          1
         ],
         "title": {
          "text": "Flux Financier (ETH)"
         }
        }
       }
      }
     },
     "metadata": {},
     "output_type": "display_data"
    },
    {
     "data": {
      "application/vnd.plotly.v1+json": {
       "config": {
        "plotlyServerURL": "https://plot.ly"
       },
       "data": [
        {
         "alignmentgroup": "True",
         "hovertemplate": "Block_Number=%{x}<br>Value_ETH=%{y}<extra></extra>",
         "legendgroup": "",
         "marker": {
          "color": "#636efa",
          "pattern": {
           "shape": ""
          }
         },
         "name": "",
         "offsetgroup": "",
         "orientation": "v",
         "showlegend": false,
         "textposition": "auto",
         "type": "bar",
         "x": [
          21546792,
          21546793,
          21546794,
          21546795,
          21546796,
          21546797,
          21546798,
          21546799,
          21546800,
          21546801,
          21546802,
          21546803,
          21546804,
          21546805,
          21546806,
          21546807,
          21546808,
          21546809,
          21546810,
          21546811,
          21546812,
          21546813,
          21546814,
          21546815,
          21546816,
          21546817,
          21546818,
          21546819,
          21546820,
          21546821,
          21546822,
          21546823,
          21546824,
          21546825,
          21546826,
          21546827,
          21546828,
          21546829,
          21546830,
          21546831,
          21546832,
          21546833,
          21546834,
          21546835,
          21546836,
          21546837,
          21546838,
          21546839,
          21546840,
          21546841,
          21546842,
          21546843,
          21546844,
          21546845,
          21546846,
          21546847,
          21546848,
          21546850,
          21546851,
          21546852,
          21546853,
          21546854,
          21546855,
          21546856,
          21546857,
          21546858,
          21546859,
          21546860,
          21546861,
          21546863,
          21546864,
          21546865,
          21546866,
          21546867,
          21546868,
          21546869,
          21546870,
          21546871,
          21546872,
          21546873,
          21546874,
          21546875,
          21546876,
          21546877,
          21546878,
          21546879,
          21546880,
          21546881,
          21546882,
          21546883,
          21546884,
          21546885,
          21546886,
          21546887,
          21546888,
          21546889,
          21546890,
          21546891,
          21546892,
          21546893,
          21546894,
          21546895,
          21546896,
          21546897,
          21546898,
          21546899,
          21546900,
          21546901,
          21546902,
          21546903,
          21546904,
          21546905,
          21546906,
          21546907,
          21546908,
          21546909,
          21546910,
          21546911,
          21546912,
          21546913,
          21546914,
          21546915,
          21546916,
          21546917,
          21546918,
          21546919,
          21546920,
          21546921,
          21546922,
          21546923,
          21546924,
          21546925,
          21546926,
          21546927,
          21546928,
          21546929,
          21546930,
          21546931,
          21546932,
          21546933,
          21546934,
          21546935,
          21546936,
          21546937,
          21546938,
          21546939,
          21546940,
          21546941,
          21546942,
          21546943,
          21546944,
          21546945,
          21546946,
          21546947,
          21546948,
          21546949,
          21546950,
          21546951,
          21546952,
          21546953,
          21546954,
          21546955,
          21546956,
          21546957,
          21546958,
          21546959,
          21546960,
          21546961,
          21546962,
          21546963,
          21546964,
          21546965,
          21546966,
          21546967,
          21546968,
          21546969,
          21546970,
          21546971,
          21546972,
          21546973,
          21546974,
          21546975,
          21546976,
          21546977,
          21546978,
          21546979,
          21546980,
          21546981,
          21546982,
          21546983,
          21546984,
          21546985,
          21546986,
          21546987,
          21546988,
          21546989,
          21546990,
          21546991
         ],
         "xaxis": "x",
         "y": [
          1.813806484325129,
          1.1343392136330679,
          0.4936979072515918,
          3.0346189107767687,
          2.676478849222453,
          1.015910135284757,
          0.6517431457957191,
          0.8722139884513265,
          1.3550238612771057,
          0.9133378549185036,
          0.7022451784566854,
          1.8191577071971192,
          1.0393274753822128,
          0.5673735819373578,
          2.8799922976505075,
          1.9760016135746556,
          1.1709398634627302,
          1.6827753652708366,
          1.8077847296519256,
          0.9545420717800729,
          0.7114531891746464,
          1.5931742223128478,
          0.3845988833599231,
          1.9800202179919186,
          1.289670999242542,
          0.9406810188328136,
          0.9657506535582112,
          0.44053247803451373,
          2.075381220971019,
          1.3336465263022663,
          1.1354800835774588,
          1.4112125255853611,
          2.179371373991983,
          1.2047725811828167,
          1.0284860177789716,
          1.0362435966268269,
          1.4928052172982822,
          1.30611983656281,
          1.2853050666845593,
          0.8886980366465307,
          1.5660105561774114,
          0.8829311940426843,
          1.9991756144993327,
          0.8519859811414715,
          1.7570005753494975,
          1.550828832777264,
          2.379247349768902,
          0.5144327356555879,
          1.7053865665180497,
          1.6154075886555517,
          1.737428299911082,
          0.4841910397993861,
          2.2918205005667724,
          0.6508335064960555,
          1.4152608037145564,
          0.8698103597296933,
          0.8999715569273481,
          1.5243841531508677,
          1.2375258122462862,
          0.9162947219389991,
          1.6777534958608094,
          0.7488710381109529,
          1.180073100735588,
          1.3525649793726304,
          1.4956345809002771,
          1.6854831273901145,
          1.4509859059842078,
          1.293643228017275,
          0.7696384357805742,
          1.4206765451979881,
          1.7453448515059617,
          0.4485477600770137,
          1.651703462103348,
          1.5329372823387397,
          1.451326564163694,
          0.7609629249753349,
          1.2147119842592247,
          1.0157000356364458,
          1.8279311058296654,
          2.24108365283949,
          1.0147072763993863,
          1.5134635833544343,
          1.1069669613210618,
          1.5794834105820612,
          0.857000917488787,
          1.5832978656641916,
          1.3593752379622228,
          0.5307776421188058,
          1.3742880826577437,
          1.5926624491881953,
          0.3720892147129642,
          0.6741330061144727,
          1.3133757569638782,
          1.3582873813431235,
          1.1689876964943366,
          1.2554049560552616,
          0.7865250927974758,
          0.7377930613843751,
          2.133253064151122,
          1.9664641630944169,
          0.9265088595865775,
          1.3547695723778412,
          0.8227238461744661,
          1.2719879451521985,
          0.9335722355264278,
          1.007494528851627,
          1.4703781694987317,
          1.6956398381588584,
          1.298158851439767,
          1.6855941621980033,
          0.8580567600393713,
          2.6351327395842925,
          1.8943359075736557,
          0.6563588192533392,
          1.2455312263729412,
          0.5953772607572356,
          1.7249218516879816,
          0.99250479039182,
          1.2731035556392285,
          1.1243671899377805,
          0.9134238480452694,
          1.3148786583594805,
          0.8109023807217801,
          1.2238728300718693,
          0.8215616233297374,
          2.264849722928023,
          2.0011048099226487,
          0.9828753333702566,
          1.4953198335075126,
          1.4664451633712114,
          1.1078695613267873,
          1.805395060490977,
          0.5527940707414336,
          0.9384392415980651,
          1.3588552676508305,
          1.1080511921412324,
          1.178152692004256,
          1.0708724050166976,
          1.6706499482074229,
          1.959949390739477,
          0.8202360137709741,
          1.8705981248733883,
          1.3157335857383599,
          0.907020566222913,
          1.0988538269347663,
          1.1383071458350194,
          0.6153333262358681,
          3.361725856398825,
          1.2597324657201194,
          0.8324436702410304,
          1.0583188333468307,
          0.7065779070926463,
          0.6703889211958102,
          2.6745219489202965,
          1.1043085634113223,
          1.2271095336243067,
          1.6220322420512707,
          0.830926402702123,
          2.0352799184543158,
          1.1499853844632182,
          0.9478717684546777,
          1.0132548805921444,
          0.3084767665404259,
          1.0499924861635532,
          0.9555932728734865,
          1.120271744138118,
          1.7061163500620227,
          2.0706608581614505,
          1.322206298498515,
          1.351319848934487,
          1.3311339572610617,
          0.23376560189883067,
          1.4206837362403768,
          0.7229466772976028,
          0.8695055637990972,
          2.506604005883541,
          0.7219530206675783,
          1.2807813978507434,
          0.8438375583873416,
          1.9952305216434638,
          2.2880072184217184,
          0.71235550343975,
          1.0276776471869926,
          1.471902075243397,
          0.7732576802688501,
          1.2307484954565575,
          0.7142017978054308,
          1.2730245036166528,
          1.9539091870978005,
          1.0773250287551746,
          1.2706704679234402,
          1.2152722395462205,
          1.1895225265210856,
          1.7477139390369758,
          1.8934224811837441,
          0.871271131784732,
          1.8904306220184008,
          0.2644015410301661
         ],
         "yaxis": "y"
        }
       ],
       "layout": {
        "barmode": "relative",
        "legend": {
         "tracegroupgap": 0
        },
        "template": {
         "data": {
          "bar": [
           {
            "error_x": {
             "color": "#2a3f5f"
            },
            "error_y": {
             "color": "#2a3f5f"
            },
            "marker": {
             "line": {
              "color": "#E5ECF6",
              "width": 0.5
             },
             "pattern": {
              "fillmode": "overlay",
              "size": 10,
              "solidity": 0.2
             }
            },
            "type": "bar"
           }
          ],
          "barpolar": [
           {
            "marker": {
             "line": {
              "color": "#E5ECF6",
              "width": 0.5
             },
             "pattern": {
              "fillmode": "overlay",
              "size": 10,
              "solidity": 0.2
             }
            },
            "type": "barpolar"
           }
          ],
          "carpet": [
           {
            "aaxis": {
             "endlinecolor": "#2a3f5f",
             "gridcolor": "white",
             "linecolor": "white",
             "minorgridcolor": "white",
             "startlinecolor": "#2a3f5f"
            },
            "baxis": {
             "endlinecolor": "#2a3f5f",
             "gridcolor": "white",
             "linecolor": "white",
             "minorgridcolor": "white",
             "startlinecolor": "#2a3f5f"
            },
            "type": "carpet"
           }
          ],
          "choropleth": [
           {
            "colorbar": {
             "outlinewidth": 0,
             "ticks": ""
            },
            "type": "choropleth"
           }
          ],
          "contour": [
           {
            "colorbar": {
             "outlinewidth": 0,
             "ticks": ""
            },
            "colorscale": [
             [
              0,
              "#0d0887"
             ],
             [
              0.1111111111111111,
              "#46039f"
             ],
             [
              0.2222222222222222,
              "#7201a8"
             ],
             [
              0.3333333333333333,
              "#9c179e"
             ],
             [
              0.4444444444444444,
              "#bd3786"
             ],
             [
              0.5555555555555556,
              "#d8576b"
             ],
             [
              0.6666666666666666,
              "#ed7953"
             ],
             [
              0.7777777777777778,
              "#fb9f3a"
             ],
             [
              0.8888888888888888,
              "#fdca26"
             ],
             [
              1,
              "#f0f921"
             ]
            ],
            "type": "contour"
           }
          ],
          "contourcarpet": [
           {
            "colorbar": {
             "outlinewidth": 0,
             "ticks": ""
            },
            "type": "contourcarpet"
           }
          ],
          "heatmap": [
           {
            "colorbar": {
             "outlinewidth": 0,
             "ticks": ""
            },
            "colorscale": [
             [
              0,
              "#0d0887"
             ],
             [
              0.1111111111111111,
              "#46039f"
             ],
             [
              0.2222222222222222,
              "#7201a8"
             ],
             [
              0.3333333333333333,
              "#9c179e"
             ],
             [
              0.4444444444444444,
              "#bd3786"
             ],
             [
              0.5555555555555556,
              "#d8576b"
             ],
             [
              0.6666666666666666,
              "#ed7953"
             ],
             [
              0.7777777777777778,
              "#fb9f3a"
             ],
             [
              0.8888888888888888,
              "#fdca26"
             ],
             [
              1,
              "#f0f921"
             ]
            ],
            "type": "heatmap"
           }
          ],
          "heatmapgl": [
           {
            "colorbar": {
             "outlinewidth": 0,
             "ticks": ""
            },
            "colorscale": [
             [
              0,
              "#0d0887"
             ],
             [
              0.1111111111111111,
              "#46039f"
             ],
             [
              0.2222222222222222,
              "#7201a8"
             ],
             [
              0.3333333333333333,
              "#9c179e"
             ],
             [
              0.4444444444444444,
              "#bd3786"
             ],
             [
              0.5555555555555556,
              "#d8576b"
             ],
             [
              0.6666666666666666,
              "#ed7953"
             ],
             [
              0.7777777777777778,
              "#fb9f3a"
             ],
             [
              0.8888888888888888,
              "#fdca26"
             ],
             [
              1,
              "#f0f921"
             ]
            ],
            "type": "heatmapgl"
           }
          ],
          "histogram": [
           {
            "marker": {
             "pattern": {
              "fillmode": "overlay",
              "size": 10,
              "solidity": 0.2
             }
            },
            "type": "histogram"
           }
          ],
          "histogram2d": [
           {
            "colorbar": {
             "outlinewidth": 0,
             "ticks": ""
            },
            "colorscale": [
             [
              0,
              "#0d0887"
             ],
             [
              0.1111111111111111,
              "#46039f"
             ],
             [
              0.2222222222222222,
              "#7201a8"
             ],
             [
              0.3333333333333333,
              "#9c179e"
             ],
             [
              0.4444444444444444,
              "#bd3786"
             ],
             [
              0.5555555555555556,
              "#d8576b"
             ],
             [
              0.6666666666666666,
              "#ed7953"
             ],
             [
              0.7777777777777778,
              "#fb9f3a"
             ],
             [
              0.8888888888888888,
              "#fdca26"
             ],
             [
              1,
              "#f0f921"
             ]
            ],
            "type": "histogram2d"
           }
          ],
          "histogram2dcontour": [
           {
            "colorbar": {
             "outlinewidth": 0,
             "ticks": ""
            },
            "colorscale": [
             [
              0,
              "#0d0887"
             ],
             [
              0.1111111111111111,
              "#46039f"
             ],
             [
              0.2222222222222222,
              "#7201a8"
             ],
             [
              0.3333333333333333,
              "#9c179e"
             ],
             [
              0.4444444444444444,
              "#bd3786"
             ],
             [
              0.5555555555555556,
              "#d8576b"
             ],
             [
              0.6666666666666666,
              "#ed7953"
             ],
             [
              0.7777777777777778,
              "#fb9f3a"
             ],
             [
              0.8888888888888888,
              "#fdca26"
             ],
             [
              1,
              "#f0f921"
             ]
            ],
            "type": "histogram2dcontour"
           }
          ],
          "mesh3d": [
           {
            "colorbar": {
             "outlinewidth": 0,
             "ticks": ""
            },
            "type": "mesh3d"
           }
          ],
          "parcoords": [
           {
            "line": {
             "colorbar": {
              "outlinewidth": 0,
              "ticks": ""
             }
            },
            "type": "parcoords"
           }
          ],
          "pie": [
           {
            "automargin": true,
            "type": "pie"
           }
          ],
          "scatter": [
           {
            "fillpattern": {
             "fillmode": "overlay",
             "size": 10,
             "solidity": 0.2
            },
            "type": "scatter"
           }
          ],
          "scatter3d": [
           {
            "line": {
             "colorbar": {
              "outlinewidth": 0,
              "ticks": ""
             }
            },
            "marker": {
             "colorbar": {
              "outlinewidth": 0,
              "ticks": ""
             }
            },
            "type": "scatter3d"
           }
          ],
          "scattercarpet": [
           {
            "marker": {
             "colorbar": {
              "outlinewidth": 0,
              "ticks": ""
             }
            },
            "type": "scattercarpet"
           }
          ],
          "scattergeo": [
           {
            "marker": {
             "colorbar": {
              "outlinewidth": 0,
              "ticks": ""
             }
            },
            "type": "scattergeo"
           }
          ],
          "scattergl": [
           {
            "marker": {
             "colorbar": {
              "outlinewidth": 0,
              "ticks": ""
             }
            },
            "type": "scattergl"
           }
          ],
          "scattermapbox": [
           {
            "marker": {
             "colorbar": {
              "outlinewidth": 0,
              "ticks": ""
             }
            },
            "type": "scattermapbox"
           }
          ],
          "scatterpolar": [
           {
            "marker": {
             "colorbar": {
              "outlinewidth": 0,
              "ticks": ""
             }
            },
            "type": "scatterpolar"
           }
          ],
          "scatterpolargl": [
           {
            "marker": {
             "colorbar": {
              "outlinewidth": 0,
              "ticks": ""
             }
            },
            "type": "scatterpolargl"
           }
          ],
          "scatterternary": [
           {
            "marker": {
             "colorbar": {
              "outlinewidth": 0,
              "ticks": ""
             }
            },
            "type": "scatterternary"
           }
          ],
          "surface": [
           {
            "colorbar": {
             "outlinewidth": 0,
             "ticks": ""
            },
            "colorscale": [
             [
              0,
              "#0d0887"
             ],
             [
              0.1111111111111111,
              "#46039f"
             ],
             [
              0.2222222222222222,
              "#7201a8"
             ],
             [
              0.3333333333333333,
              "#9c179e"
             ],
             [
              0.4444444444444444,
              "#bd3786"
             ],
             [
              0.5555555555555556,
              "#d8576b"
             ],
             [
              0.6666666666666666,
              "#ed7953"
             ],
             [
              0.7777777777777778,
              "#fb9f3a"
             ],
             [
              0.8888888888888888,
              "#fdca26"
             ],
             [
              1,
              "#f0f921"
             ]
            ],
            "type": "surface"
           }
          ],
          "table": [
           {
            "cells": {
             "fill": {
              "color": "#EBF0F8"
             },
             "line": {
              "color": "white"
             }
            },
            "header": {
             "fill": {
              "color": "#C8D4E3"
             },
             "line": {
              "color": "white"
             }
            },
            "type": "table"
           }
          ]
         },
         "layout": {
          "annotationdefaults": {
           "arrowcolor": "#2a3f5f",
           "arrowhead": 0,
           "arrowwidth": 1
          },
          "autotypenumbers": "strict",
          "coloraxis": {
           "colorbar": {
            "outlinewidth": 0,
            "ticks": ""
           }
          },
          "colorscale": {
           "diverging": [
            [
             0,
             "#8e0152"
            ],
            [
             0.1,
             "#c51b7d"
            ],
            [
             0.2,
             "#de77ae"
            ],
            [
             0.3,
             "#f1b6da"
            ],
            [
             0.4,
             "#fde0ef"
            ],
            [
             0.5,
             "#f7f7f7"
            ],
            [
             0.6,
             "#e6f5d0"
            ],
            [
             0.7,
             "#b8e186"
            ],
            [
             0.8,
             "#7fbc41"
            ],
            [
             0.9,
             "#4d9221"
            ],
            [
             1,
             "#276419"
            ]
           ],
           "sequential": [
            [
             0,
             "#0d0887"
            ],
            [
             0.1111111111111111,
             "#46039f"
            ],
            [
             0.2222222222222222,
             "#7201a8"
            ],
            [
             0.3333333333333333,
             "#9c179e"
            ],
            [
             0.4444444444444444,
             "#bd3786"
            ],
            [
             0.5555555555555556,
             "#d8576b"
            ],
            [
             0.6666666666666666,
             "#ed7953"
            ],
            [
             0.7777777777777778,
             "#fb9f3a"
            ],
            [
             0.8888888888888888,
             "#fdca26"
            ],
            [
             1,
             "#f0f921"
            ]
           ],
           "sequentialminus": [
            [
             0,
             "#0d0887"
            ],
            [
             0.1111111111111111,
             "#46039f"
            ],
            [
             0.2222222222222222,
             "#7201a8"
            ],
            [
             0.3333333333333333,
             "#9c179e"
            ],
            [
             0.4444444444444444,
             "#bd3786"
            ],
            [
             0.5555555555555556,
             "#d8576b"
            ],
            [
             0.6666666666666666,
             "#ed7953"
            ],
            [
             0.7777777777777778,
             "#fb9f3a"
            ],
            [
             0.8888888888888888,
             "#fdca26"
            ],
            [
             1,
             "#f0f921"
            ]
           ]
          },
          "colorway": [
           "#636efa",
           "#EF553B",
           "#00cc96",
           "#ab63fa",
           "#FFA15A",
           "#19d3f3",
           "#FF6692",
           "#B6E880",
           "#FF97FF",
           "#FECB52"
          ],
          "font": {
           "color": "#2a3f5f"
          },
          "geo": {
           "bgcolor": "white",
           "lakecolor": "white",
           "landcolor": "#E5ECF6",
           "showlakes": true,
           "showland": true,
           "subunitcolor": "white"
          },
          "hoverlabel": {
           "align": "left"
          },
          "hovermode": "closest",
          "mapbox": {
           "style": "light"
          },
          "paper_bgcolor": "white",
          "plot_bgcolor": "#E5ECF6",
          "polar": {
           "angularaxis": {
            "gridcolor": "white",
            "linecolor": "white",
            "ticks": ""
           },
           "bgcolor": "#E5ECF6",
           "radialaxis": {
            "gridcolor": "white",
            "linecolor": "white",
            "ticks": ""
           }
          },
          "scene": {
           "xaxis": {
            "backgroundcolor": "#E5ECF6",
            "gridcolor": "white",
            "gridwidth": 2,
            "linecolor": "white",
            "showbackground": true,
            "ticks": "",
            "zerolinecolor": "white"
           },
           "yaxis": {
            "backgroundcolor": "#E5ECF6",
            "gridcolor": "white",
            "gridwidth": 2,
            "linecolor": "white",
            "showbackground": true,
            "ticks": "",
            "zerolinecolor": "white"
           },
           "zaxis": {
            "backgroundcolor": "#E5ECF6",
            "gridcolor": "white",
            "gridwidth": 2,
            "linecolor": "white",
            "showbackground": true,
            "ticks": "",
            "zerolinecolor": "white"
           }
          },
          "shapedefaults": {
           "line": {
            "color": "#2a3f5f"
           }
          },
          "ternary": {
           "aaxis": {
            "gridcolor": "white",
            "linecolor": "white",
            "ticks": ""
           },
           "baxis": {
            "gridcolor": "white",
            "linecolor": "white",
            "ticks": ""
           },
           "bgcolor": "#E5ECF6",
           "caxis": {
            "gridcolor": "white",
            "linecolor": "white",
            "ticks": ""
           }
          },
          "title": {
           "x": 0.05
          },
          "xaxis": {
           "automargin": true,
           "gridcolor": "white",
           "linecolor": "white",
           "ticks": "",
           "title": {
            "standoff": 15
           },
           "zerolinecolor": "white",
           "zerolinewidth": 2
          },
          "yaxis": {
           "automargin": true,
           "gridcolor": "white",
           "linecolor": "white",
           "ticks": "",
           "title": {
            "standoff": 15
           },
           "zerolinecolor": "white",
           "zerolinewidth": 2
          }
         }
        },
        "title": {
         "text": "Volume des transactions par bloc"
        },
        "xaxis": {
         "anchor": "y",
         "domain": [
          0,
          1
         ],
         "title": {
          "text": "Block_Number"
         }
        },
        "yaxis": {
         "anchor": "x",
         "domain": [
          0,
          1
         ],
         "title": {
          "text": "Value_ETH"
         }
        }
       }
      }
     },
     "metadata": {},
     "output_type": "display_data"
    },
    {
     "data": {
      "application/vnd.plotly.v1+json": {
       "config": {
        "plotlyServerURL": "https://plot.ly"
       },
       "data": [
        {
         "hovertemplate": "Block_Number=%{x}<br>Gas_Fees_ETH=%{y}<extra></extra>",
         "legendgroup": "",
         "line": {
          "color": "#636efa",
          "dash": "solid"
         },
         "marker": {
          "symbol": "circle"
         },
         "mode": "lines",
         "name": "",
         "orientation": "v",
         "showlegend": false,
         "type": "scatter",
         "x": [
          21546792,
          21546793,
          21546794,
          21546795,
          21546796,
          21546797,
          21546798,
          21546799,
          21546800,
          21546801,
          21546802,
          21546803,
          21546804,
          21546805,
          21546806,
          21546807,
          21546808,
          21546809,
          21546810,
          21546811,
          21546812,
          21546813,
          21546814,
          21546815,
          21546816,
          21546817,
          21546818,
          21546819,
          21546820,
          21546821,
          21546822,
          21546823,
          21546824,
          21546825,
          21546826,
          21546827,
          21546828,
          21546829,
          21546830,
          21546831,
          21546832,
          21546833,
          21546834,
          21546835,
          21546836,
          21546837,
          21546838,
          21546839,
          21546840,
          21546841,
          21546842,
          21546843,
          21546844,
          21546845,
          21546846,
          21546847,
          21546848,
          21546850,
          21546851,
          21546852,
          21546853,
          21546854,
          21546855,
          21546856,
          21546857,
          21546858,
          21546859,
          21546860,
          21546861,
          21546863,
          21546864,
          21546865,
          21546866,
          21546867,
          21546868,
          21546869,
          21546870,
          21546871,
          21546872,
          21546873,
          21546874,
          21546875,
          21546876,
          21546877,
          21546878,
          21546879,
          21546880,
          21546881,
          21546882,
          21546883,
          21546884,
          21546885,
          21546886,
          21546887,
          21546888,
          21546889,
          21546890,
          21546891,
          21546892,
          21546893,
          21546894,
          21546895,
          21546896,
          21546897,
          21546898,
          21546899,
          21546900,
          21546901,
          21546902,
          21546903,
          21546904,
          21546905,
          21546906,
          21546907,
          21546908,
          21546909,
          21546910,
          21546911,
          21546912,
          21546913,
          21546914,
          21546915,
          21546916,
          21546917,
          21546918,
          21546919,
          21546920,
          21546921,
          21546922,
          21546923,
          21546924,
          21546925,
          21546926,
          21546927,
          21546928,
          21546929,
          21546930,
          21546931,
          21546932,
          21546933,
          21546934,
          21546935,
          21546936,
          21546937,
          21546938,
          21546939,
          21546940,
          21546941,
          21546942,
          21546943,
          21546944,
          21546945,
          21546946,
          21546947,
          21546948,
          21546949,
          21546950,
          21546951,
          21546952,
          21546953,
          21546954,
          21546955,
          21546956,
          21546957,
          21546958,
          21546959,
          21546960,
          21546961,
          21546962,
          21546963,
          21546964,
          21546965,
          21546966,
          21546967,
          21546968,
          21546969,
          21546970,
          21546971,
          21546972,
          21546973,
          21546974,
          21546975,
          21546976,
          21546977,
          21546978,
          21546979,
          21546980,
          21546981,
          21546982,
          21546983,
          21546984,
          21546985,
          21546986,
          21546987,
          21546988,
          21546989,
          21546990,
          21546991
         ],
         "xaxis": "x",
         "y": [
          0.3227060366277501,
          0.2423689974590522,
          0.04670696977654474,
          0.34016267779951836,
          0.29942330883823853,
          0.13584913741294147,
          0.13737521243031872,
          0.20794992472476392,
          0.19412777092455852,
          0.17951042697567174,
          0.08684225975243715,
          0.2844671268609842,
          0.11980320535138642,
          0.0962507594580309,
          0.36794308971518763,
          0.28284248749552154,
          0.14572384476139705,
          0.1312827108518238,
          0.21715991369784762,
          0.17030417940538845,
          0.19430535940463733,
          0.22528952501225435,
          0.07305219269173925,
          0.312316140971171,
          0.23475160813174994,
          0.159317775107306,
          0.14587166048167743,
          0.09305570340552047,
          0.33281868596288616,
          0.2807147887618409,
          0.12269297299860998,
          0.13211493704148086,
          0.19786125752318034,
          0.14808388806270525,
          0.17239151803514768,
          0.17227532708733767,
          0.20662523879707667,
          0.17676506399138736,
          0.17051697933669407,
          0.15581796309846963,
          0.2529425235719911,
          0.11478623438005979,
          0.27132773055436876,
          0.1299822889471303,
          0.245091552521239,
          0.11553962871188272,
          0.25660586876073704,
          0.09089534306244565,
          0.13710193171365898,
          0.18434553396503678,
          0.24821860435461982,
          0.06300485357182677,
          0.2784710100685696,
          0.07444453979911692,
          0.296769997499959,
          0.13712867497865655,
          0.16259705331619614,
          0.1977882794217785,
          0.12699633851777622,
          0.11560017888806307,
          0.20847891803013893,
          0.1416477822219794,
          0.16419339625882104,
          0.1459300225611122,
          0.20109131672995437,
          0.14464200954958167,
          0.1968666161354432,
          0.14165908512810704,
          0.13015170402169618,
          0.180666537422168,
          0.16661618652029514,
          0.09051237709675565,
          0.2023393945839118,
          0.2070962789599675,
          0.173263272116888,
          0.11066847056057756,
          0.11132299315371973,
          0.20183451199965324,
          0.18511472442259044,
          0.24893291072302812,
          0.1758816672823044,
          0.1731058226934037,
          0.20185990402908624,
          0.17838788789009294,
          0.14427920307089728,
          0.16818134240152283,
          0.19591255852334716,
          0.09259542543245901,
          0.3036609779741084,
          0.23421932757348768,
          0.11919289999525147,
          0.15390476144316273,
          0.19108061019450417,
          0.18500590183382018,
          0.136631413975343,
          0.18625604171209426,
          0.10905135388312984,
          0.08885322649866162,
          0.1294419933414101,
          0.3308867995979882,
          0.24350488012160404,
          0.1723639005648104,
          0.17258193398548238,
          0.24372484324472504,
          0.1660442824591904,
          0.1658921331565098,
          0.16703531017635395,
          0.17336086021779662,
          0.18732101324259445,
          0.18392701489775892,
          0.13526053261375368,
          0.24407247527940765,
          0.18273145519840917,
          0.1757401031208325,
          0.19271822878269843,
          0.0849048495512945,
          0.18789325880933772,
          0.16135722141992548,
          0.19849553273963802,
          0.16990390295684765,
          0.09917861258316224,
          0.21380988839417192,
          0.1306246175320087,
          0.18201832634241494,
          0.09749597649237934,
          0.22224277365283895,
          0.14739378238265013,
          0.07573558314408355,
          0.2561649932712412,
          0.1337848497303131,
          0.1518930145141452,
          0.2247769456434569,
          0.15627707469634455,
          0.13391136166627074,
          0.293978462881215,
          0.14708854915325117,
          0.23396970436882145,
          0.11574192059022753,
          0.1726036091986823,
          0.18910919441651447,
          0.13539264187384845,
          0.19389016226909606,
          0.21089648429902536,
          0.14830295138373942,
          0.13083887667382899,
          0.2590499584058412,
          0.09116957817793458,
          0.38818649965895696,
          0.19617258853087483,
          0.1295743960581498,
          0.2229134830420959,
          0.23659154604427773,
          0.12192948861096238,
          0.2866682742208503,
          0.16678846447356405,
          0.21650822185152394,
          0.17682175388680305,
          0.11082025629329671,
          0.31764687266182495,
          0.20803336631484995,
          0.14583001662291958,
          0.14973498282312028,
          0.16444547151294178,
          0.1560681117855956,
          0.17913809995573102,
          0.09167633556404943,
          0.13760118928928525,
          0.31514662972503665,
          0.208721467082921,
          0.246547900331102,
          0.1981414377140765,
          0.15364719979716013,
          0.3053174658740445,
          0.10208730752504747,
          0.11899316567052598,
          0.38683714579082173,
          0.17625364085471282,
          0.213061534270868,
          0.17445093628027408,
          0.17739040062353872,
          0.18197286519809155,
          0.19790666984382685,
          0.12674067578758116,
          0.22594743317139887,
          0.17682971168027,
          0.2000807745306046,
          0.15242037840816544,
          0.10568784297214318,
          0.24786586627105459,
          0.18212580746859638,
          0.1859944727418852,
          0.2611935701691668,
          0.15938555362456935,
          0.1607335091404728,
          0.195967611745291,
          0.1809112445702668,
          0.24094499833425,
          0.05231057081372669
         ],
         "yaxis": "y"
        }
       ],
       "layout": {
        "legend": {
         "tracegroupgap": 0
        },
        "template": {
         "data": {
          "bar": [
           {
            "error_x": {
             "color": "#2a3f5f"
            },
            "error_y": {
             "color": "#2a3f5f"
            },
            "marker": {
             "line": {
              "color": "#E5ECF6",
              "width": 0.5
             },
             "pattern": {
              "fillmode": "overlay",
              "size": 10,
              "solidity": 0.2
             }
            },
            "type": "bar"
           }
          ],
          "barpolar": [
           {
            "marker": {
             "line": {
              "color": "#E5ECF6",
              "width": 0.5
             },
             "pattern": {
              "fillmode": "overlay",
              "size": 10,
              "solidity": 0.2
             }
            },
            "type": "barpolar"
           }
          ],
          "carpet": [
           {
            "aaxis": {
             "endlinecolor": "#2a3f5f",
             "gridcolor": "white",
             "linecolor": "white",
             "minorgridcolor": "white",
             "startlinecolor": "#2a3f5f"
            },
            "baxis": {
             "endlinecolor": "#2a3f5f",
             "gridcolor": "white",
             "linecolor": "white",
             "minorgridcolor": "white",
             "startlinecolor": "#2a3f5f"
            },
            "type": "carpet"
           }
          ],
          "choropleth": [
           {
            "colorbar": {
             "outlinewidth": 0,
             "ticks": ""
            },
            "type": "choropleth"
           }
          ],
          "contour": [
           {
            "colorbar": {
             "outlinewidth": 0,
             "ticks": ""
            },
            "colorscale": [
             [
              0,
              "#0d0887"
             ],
             [
              0.1111111111111111,
              "#46039f"
             ],
             [
              0.2222222222222222,
              "#7201a8"
             ],
             [
              0.3333333333333333,
              "#9c179e"
             ],
             [
              0.4444444444444444,
              "#bd3786"
             ],
             [
              0.5555555555555556,
              "#d8576b"
             ],
             [
              0.6666666666666666,
              "#ed7953"
             ],
             [
              0.7777777777777778,
              "#fb9f3a"
             ],
             [
              0.8888888888888888,
              "#fdca26"
             ],
             [
              1,
              "#f0f921"
             ]
            ],
            "type": "contour"
           }
          ],
          "contourcarpet": [
           {
            "colorbar": {
             "outlinewidth": 0,
             "ticks": ""
            },
            "type": "contourcarpet"
           }
          ],
          "heatmap": [
           {
            "colorbar": {
             "outlinewidth": 0,
             "ticks": ""
            },
            "colorscale": [
             [
              0,
              "#0d0887"
             ],
             [
              0.1111111111111111,
              "#46039f"
             ],
             [
              0.2222222222222222,
              "#7201a8"
             ],
             [
              0.3333333333333333,
              "#9c179e"
             ],
             [
              0.4444444444444444,
              "#bd3786"
             ],
             [
              0.5555555555555556,
              "#d8576b"
             ],
             [
              0.6666666666666666,
              "#ed7953"
             ],
             [
              0.7777777777777778,
              "#fb9f3a"
             ],
             [
              0.8888888888888888,
              "#fdca26"
             ],
             [
              1,
              "#f0f921"
             ]
            ],
            "type": "heatmap"
           }
          ],
          "heatmapgl": [
           {
            "colorbar": {
             "outlinewidth": 0,
             "ticks": ""
            },
            "colorscale": [
             [
              0,
              "#0d0887"
             ],
             [
              0.1111111111111111,
              "#46039f"
             ],
             [
              0.2222222222222222,
              "#7201a8"
             ],
             [
              0.3333333333333333,
              "#9c179e"
             ],
             [
              0.4444444444444444,
              "#bd3786"
             ],
             [
              0.5555555555555556,
              "#d8576b"
             ],
             [
              0.6666666666666666,
              "#ed7953"
             ],
             [
              0.7777777777777778,
              "#fb9f3a"
             ],
             [
              0.8888888888888888,
              "#fdca26"
             ],
             [
              1,
              "#f0f921"
             ]
            ],
            "type": "heatmapgl"
           }
          ],
          "histogram": [
           {
            "marker": {
             "pattern": {
              "fillmode": "overlay",
              "size": 10,
              "solidity": 0.2
             }
            },
            "type": "histogram"
           }
          ],
          "histogram2d": [
           {
            "colorbar": {
             "outlinewidth": 0,
             "ticks": ""
            },
            "colorscale": [
             [
              0,
              "#0d0887"
             ],
             [
              0.1111111111111111,
              "#46039f"
             ],
             [
              0.2222222222222222,
              "#7201a8"
             ],
             [
              0.3333333333333333,
              "#9c179e"
             ],
             [
              0.4444444444444444,
              "#bd3786"
             ],
             [
              0.5555555555555556,
              "#d8576b"
             ],
             [
              0.6666666666666666,
              "#ed7953"
             ],
             [
              0.7777777777777778,
              "#fb9f3a"
             ],
             [
              0.8888888888888888,
              "#fdca26"
             ],
             [
              1,
              "#f0f921"
             ]
            ],
            "type": "histogram2d"
           }
          ],
          "histogram2dcontour": [
           {
            "colorbar": {
             "outlinewidth": 0,
             "ticks": ""
            },
            "colorscale": [
             [
              0,
              "#0d0887"
             ],
             [
              0.1111111111111111,
              "#46039f"
             ],
             [
              0.2222222222222222,
              "#7201a8"
             ],
             [
              0.3333333333333333,
              "#9c179e"
             ],
             [
              0.4444444444444444,
              "#bd3786"
             ],
             [
              0.5555555555555556,
              "#d8576b"
             ],
             [
              0.6666666666666666,
              "#ed7953"
             ],
             [
              0.7777777777777778,
              "#fb9f3a"
             ],
             [
              0.8888888888888888,
              "#fdca26"
             ],
             [
              1,
              "#f0f921"
             ]
            ],
            "type": "histogram2dcontour"
           }
          ],
          "mesh3d": [
           {
            "colorbar": {
             "outlinewidth": 0,
             "ticks": ""
            },
            "type": "mesh3d"
           }
          ],
          "parcoords": [
           {
            "line": {
             "colorbar": {
              "outlinewidth": 0,
              "ticks": ""
             }
            },
            "type": "parcoords"
           }
          ],
          "pie": [
           {
            "automargin": true,
            "type": "pie"
           }
          ],
          "scatter": [
           {
            "fillpattern": {
             "fillmode": "overlay",
             "size": 10,
             "solidity": 0.2
            },
            "type": "scatter"
           }
          ],
          "scatter3d": [
           {
            "line": {
             "colorbar": {
              "outlinewidth": 0,
              "ticks": ""
             }
            },
            "marker": {
             "colorbar": {
              "outlinewidth": 0,
              "ticks": ""
             }
            },
            "type": "scatter3d"
           }
          ],
          "scattercarpet": [
           {
            "marker": {
             "colorbar": {
              "outlinewidth": 0,
              "ticks": ""
             }
            },
            "type": "scattercarpet"
           }
          ],
          "scattergeo": [
           {
            "marker": {
             "colorbar": {
              "outlinewidth": 0,
              "ticks": ""
             }
            },
            "type": "scattergeo"
           }
          ],
          "scattergl": [
           {
            "marker": {
             "colorbar": {
              "outlinewidth": 0,
              "ticks": ""
             }
            },
            "type": "scattergl"
           }
          ],
          "scattermapbox": [
           {
            "marker": {
             "colorbar": {
              "outlinewidth": 0,
              "ticks": ""
             }
            },
            "type": "scattermapbox"
           }
          ],
          "scatterpolar": [
           {
            "marker": {
             "colorbar": {
              "outlinewidth": 0,
              "ticks": ""
             }
            },
            "type": "scatterpolar"
           }
          ],
          "scatterpolargl": [
           {
            "marker": {
             "colorbar": {
              "outlinewidth": 0,
              "ticks": ""
             }
            },
            "type": "scatterpolargl"
           }
          ],
          "scatterternary": [
           {
            "marker": {
             "colorbar": {
              "outlinewidth": 0,
              "ticks": ""
             }
            },
            "type": "scatterternary"
           }
          ],
          "surface": [
           {
            "colorbar": {
             "outlinewidth": 0,
             "ticks": ""
            },
            "colorscale": [
             [
              0,
              "#0d0887"
             ],
             [
              0.1111111111111111,
              "#46039f"
             ],
             [
              0.2222222222222222,
              "#7201a8"
             ],
             [
              0.3333333333333333,
              "#9c179e"
             ],
             [
              0.4444444444444444,
              "#bd3786"
             ],
             [
              0.5555555555555556,
              "#d8576b"
             ],
             [
              0.6666666666666666,
              "#ed7953"
             ],
             [
              0.7777777777777778,
              "#fb9f3a"
             ],
             [
              0.8888888888888888,
              "#fdca26"
             ],
             [
              1,
              "#f0f921"
             ]
            ],
            "type": "surface"
           }
          ],
          "table": [
           {
            "cells": {
             "fill": {
              "color": "#EBF0F8"
             },
             "line": {
              "color": "white"
             }
            },
            "header": {
             "fill": {
              "color": "#C8D4E3"
             },
             "line": {
              "color": "white"
             }
            },
            "type": "table"
           }
          ]
         },
         "layout": {
          "annotationdefaults": {
           "arrowcolor": "#2a3f5f",
           "arrowhead": 0,
           "arrowwidth": 1
          },
          "autotypenumbers": "strict",
          "coloraxis": {
           "colorbar": {
            "outlinewidth": 0,
            "ticks": ""
           }
          },
          "colorscale": {
           "diverging": [
            [
             0,
             "#8e0152"
            ],
            [
             0.1,
             "#c51b7d"
            ],
            [
             0.2,
             "#de77ae"
            ],
            [
             0.3,
             "#f1b6da"
            ],
            [
             0.4,
             "#fde0ef"
            ],
            [
             0.5,
             "#f7f7f7"
            ],
            [
             0.6,
             "#e6f5d0"
            ],
            [
             0.7,
             "#b8e186"
            ],
            [
             0.8,
             "#7fbc41"
            ],
            [
             0.9,
             "#4d9221"
            ],
            [
             1,
             "#276419"
            ]
           ],
           "sequential": [
            [
             0,
             "#0d0887"
            ],
            [
             0.1111111111111111,
             "#46039f"
            ],
            [
             0.2222222222222222,
             "#7201a8"
            ],
            [
             0.3333333333333333,
             "#9c179e"
            ],
            [
             0.4444444444444444,
             "#bd3786"
            ],
            [
             0.5555555555555556,
             "#d8576b"
            ],
            [
             0.6666666666666666,
             "#ed7953"
            ],
            [
             0.7777777777777778,
             "#fb9f3a"
            ],
            [
             0.8888888888888888,
             "#fdca26"
            ],
            [
             1,
             "#f0f921"
            ]
           ],
           "sequentialminus": [
            [
             0,
             "#0d0887"
            ],
            [
             0.1111111111111111,
             "#46039f"
            ],
            [
             0.2222222222222222,
             "#7201a8"
            ],
            [
             0.3333333333333333,
             "#9c179e"
            ],
            [
             0.4444444444444444,
             "#bd3786"
            ],
            [
             0.5555555555555556,
             "#d8576b"
            ],
            [
             0.6666666666666666,
             "#ed7953"
            ],
            [
             0.7777777777777778,
             "#fb9f3a"
            ],
            [
             0.8888888888888888,
             "#fdca26"
            ],
            [
             1,
             "#f0f921"
            ]
           ]
          },
          "colorway": [
           "#636efa",
           "#EF553B",
           "#00cc96",
           "#ab63fa",
           "#FFA15A",
           "#19d3f3",
           "#FF6692",
           "#B6E880",
           "#FF97FF",
           "#FECB52"
          ],
          "font": {
           "color": "#2a3f5f"
          },
          "geo": {
           "bgcolor": "white",
           "lakecolor": "white",
           "landcolor": "#E5ECF6",
           "showlakes": true,
           "showland": true,
           "subunitcolor": "white"
          },
          "hoverlabel": {
           "align": "left"
          },
          "hovermode": "closest",
          "mapbox": {
           "style": "light"
          },
          "paper_bgcolor": "white",
          "plot_bgcolor": "#E5ECF6",
          "polar": {
           "angularaxis": {
            "gridcolor": "white",
            "linecolor": "white",
            "ticks": ""
           },
           "bgcolor": "#E5ECF6",
           "radialaxis": {
            "gridcolor": "white",
            "linecolor": "white",
            "ticks": ""
           }
          },
          "scene": {
           "xaxis": {
            "backgroundcolor": "#E5ECF6",
            "gridcolor": "white",
            "gridwidth": 2,
            "linecolor": "white",
            "showbackground": true,
            "ticks": "",
            "zerolinecolor": "white"
           },
           "yaxis": {
            "backgroundcolor": "#E5ECF6",
            "gridcolor": "white",
            "gridwidth": 2,
            "linecolor": "white",
            "showbackground": true,
            "ticks": "",
            "zerolinecolor": "white"
           },
           "zaxis": {
            "backgroundcolor": "#E5ECF6",
            "gridcolor": "white",
            "gridwidth": 2,
            "linecolor": "white",
            "showbackground": true,
            "ticks": "",
            "zerolinecolor": "white"
           }
          },
          "shapedefaults": {
           "line": {
            "color": "#2a3f5f"
           }
          },
          "ternary": {
           "aaxis": {
            "gridcolor": "white",
            "linecolor": "white",
            "ticks": ""
           },
           "baxis": {
            "gridcolor": "white",
            "linecolor": "white",
            "ticks": ""
           },
           "bgcolor": "#E5ECF6",
           "caxis": {
            "gridcolor": "white",
            "linecolor": "white",
            "ticks": ""
           }
          },
          "title": {
           "x": 0.05
          },
          "xaxis": {
           "automargin": true,
           "gridcolor": "white",
           "linecolor": "white",
           "ticks": "",
           "title": {
            "standoff": 15
           },
           "zerolinecolor": "white",
           "zerolinewidth": 2
          },
          "yaxis": {
           "automargin": true,
           "gridcolor": "white",
           "linecolor": "white",
           "ticks": "",
           "title": {
            "standoff": 15
           },
           "zerolinecolor": "white",
           "zerolinewidth": 2
          }
         }
        },
        "title": {
         "text": "Frais de gas par bloc"
        },
        "xaxis": {
         "anchor": "y",
         "domain": [
          0,
          1
         ],
         "title": {
          "text": "Block_Number"
         }
        },
        "yaxis": {
         "anchor": "x",
         "domain": [
          0,
          1
         ],
         "title": {
          "text": "Gas_Fees_ETH"
         }
        }
       }
      }
     },
     "metadata": {},
     "output_type": "display_data"
    }
   ],
   "source": [
    "# Exemple de \"flux de trésorerie\" : somme des transactions par bloc ou par minute\n",
    "df['Trans_Date'] = pd.to_datetime(df['Trans_Date'])\n",
    "flux_tresorerie = df.groupby(df['Trans_Date'].dt.floor('min'))['Value_ETH'].sum().reset_index()\n",
    "flux_tresorerie.columns = ['Datetime', 'Flux Financier (ETH)']\n",
    "\n",
    "# Visualiser avec Plotly (Exemple de flux financier par minute)\n",
    "fig = px.line(flux_tresorerie, x='Datetime', y='Flux Financier (ETH)', title='Flux de trésorerie par minute')\n",
    "fig.show()\n",
    "\n",
    "# Visualisation des volumes de transactions par bloc avec Plotly\n",
    "volume_par_bloc = df.groupby('Block_Number')['Value_ETH'].sum().reset_index()\n",
    "fig2 = px.bar(volume_par_bloc, x='Block_Number', y='Value_ETH', title='Volume des transactions par bloc')\n",
    "fig2.show()\n",
    "\n",
    "# Visualisation des frais de gas par bloc\n",
    "frais_de_gas_par_bloc = df.groupby('Block_Number')['Gas_Fees_ETH'].sum().reset_index()\n",
    "fig3 = px.line(frais_de_gas_par_bloc, x='Block_Number', y='Gas_Fees_ETH', title='Frais de gas par bloc')\n",
    "fig3.show()\n"
   ]
  }
 ],
 "metadata": {
  "kernelspec": {
   "display_name": "Python 3",
   "language": "python",
   "name": "python3"
  },
  "language_info": {
   "codemirror_mode": {
    "name": "ipython",
    "version": 3
   },
   "file_extension": ".py",
   "mimetype": "text/x-python",
   "name": "python",
   "nbconvert_exporter": "python",
   "pygments_lexer": "ipython3",
   "version": "3.11.9"
  }
 },
 "nbformat": 4,
 "nbformat_minor": 2
}
